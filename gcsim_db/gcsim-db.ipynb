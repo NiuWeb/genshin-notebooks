{
 "cells": [
  {
   "cell_type": "markdown",
   "metadata": {},
   "source": [
    "# GCSim database loader\n",
    "\n",
    "Downloads all the teams in the gcsim and exports it as json and a Cypher script for Neo4j DB."
   ]
  },
  {
   "cell_type": "code",
   "execution_count": 47,
   "metadata": {},
   "outputs": [
    {
     "name": "stdout",
     "output_type": "stream",
     "text": [
      "Requirement already satisfied: tqdm in /home/bygdle/projects/personal/genshin-notebooks/.venv/lib/python3.12/site-packages (4.67.1)\n",
      "Requirement already satisfied: requests in /home/bygdle/projects/personal/genshin-notebooks/.venv/lib/python3.12/site-packages (2.32.3)\n",
      "Requirement already satisfied: charset-normalizer<4,>=2 in /home/bygdle/projects/personal/genshin-notebooks/.venv/lib/python3.12/site-packages (from requests) (3.4.1)\n",
      "Requirement already satisfied: idna<4,>=2.5 in /home/bygdle/projects/personal/genshin-notebooks/.venv/lib/python3.12/site-packages (from requests) (3.10)\n",
      "Requirement already satisfied: urllib3<3,>=1.21.1 in /home/bygdle/projects/personal/genshin-notebooks/.venv/lib/python3.12/site-packages (from requests) (2.3.0)\n",
      "Requirement already satisfied: certifi>=2017.4.17 in /home/bygdle/projects/personal/genshin-notebooks/.venv/lib/python3.12/site-packages (from requests) (2025.1.31)\n"
     ]
    }
   ],
   "source": [
    "!pip install tqdm\n",
    "!pip install requests"
   ]
  },
  {
   "cell_type": "code",
   "execution_count": 48,
   "metadata": {},
   "outputs": [],
   "source": [
    "import requests\n",
    "import json\n",
    "from tqdm import tqdm"
   ]
  },
  {
   "cell_type": "markdown",
   "metadata": {},
   "source": [
    "## Fetch the data from GCSim API"
   ]
  },
  {
   "cell_type": "code",
   "execution_count": 49,
   "metadata": {},
   "outputs": [],
   "source": [
    "\n",
    "# Fetch all results from the GCSim API\n",
    "def fetch_all_results():\n",
    "    base_url = \"https://simpact.app/api/db?q=\"\n",
    "    limit = 100\n",
    "    skip = 0\n",
    "    all_results = []\n",
    "    \n",
    "    with tqdm(desc=\"Fetching data\", unit=\" items\") as pbar:\n",
    "        while True:\n",
    "            query = json.dumps({\"limit\": limit, \"skip\": skip, \"sort\": {\"create_date\": -1}})\n",
    "            url = f\"{base_url}{query}\"\n",
    "            response = requests.get(url)\n",
    "            \n",
    "            if response.status_code != 200:\n",
    "                print(f\"Error: {response.status_code}, {response.text}\")\n",
    "                break\n",
    "            \n",
    "            data = response.json()\n",
    "            if not data:  # Stop when no more results\n",
    "                break\n",
    "            \n",
    "            data = data[\"data\"]\n",
    "            if len(data) == 0:\n",
    "                break # Stop when no more results\n",
    "\n",
    "            for item in data:\n",
    "                all_results.append(item)\n",
    "\n",
    "\n",
    "            skip += limit  # Move to next page\n",
    "            pbar.update(len(data))\n",
    "    \n",
    "    return all_results"
   ]
  },
  {
   "cell_type": "code",
   "execution_count": 50,
   "metadata": {},
   "outputs": [
    {
     "name": "stderr",
     "output_type": "stream",
     "text": [
      "Fetching data: 3448 items [00:19, 181.26 items/s]\n"
     ]
    }
   ],
   "source": [
    "# Fetch all results\n",
    "all_results = fetch_all_results()\n",
    "# Save to JSON\n",
    "with open(\"gcsim_db.json\", \"w\") as f:\n",
    "    json.dump(all_results, f)\n",
    "    f.close()"
   ]
  },
  {
   "cell_type": "markdown",
   "metadata": {},
   "source": [
    "## Load the data from the file"
   ]
  },
  {
   "cell_type": "code",
   "execution_count": 51,
   "metadata": {},
   "outputs": [],
   "source": [
    "all_results = json.load(open(\"gcsim_db.json\"))\n",
    "all_characters = {}\n",
    "all_elements = set()\n",
    "all_teams = {}"
   ]
  },
  {
   "cell_type": "code",
   "execution_count": 52,
   "metadata": {},
   "outputs": [],
   "source": [
    "def load_team(team_data):\n",
    "    summary = team_data[\"summary\"]\n",
    "\n",
    "    team = {\n",
    "        \"id\": team_data[\"_id\"],\n",
    "        \"dps\": summary[\"mean_dps_per_target\"],\n",
    "        \"characters\": {}\n",
    "    }\n",
    "\n",
    "    # Add all characters to the set\n",
    "    for char in summary[\"team\"]:\n",
    "        cons = char[\"cons\"] if \"cons\" in char else 0\n",
    "        all_characters[char[\"name\"]] = char[\"element\"]\n",
    "        all_elements.add(char[\"element\"])\n",
    "\n",
    "        team[\"characters\"][char[\"name\"]] = cons\n",
    "\n",
    "    all_teams[team[\"id\"]] = team\n"
   ]
  },
  {
   "cell_type": "code",
   "execution_count": 53,
   "metadata": {},
   "outputs": [],
   "source": [
    "for team in all_results:\n",
    "    load_team(team)"
   ]
  },
  {
   "cell_type": "markdown",
   "metadata": {},
   "source": [
    "## Write the data to Cypher"
   ]
  },
  {
   "cell_type": "code",
   "execution_count": 54,
   "metadata": {},
   "outputs": [],
   "source": [
    "def write_cypher(fname=\"gcsim_db.cypher\"):\n",
    "    file = open(fname, \"w\")\n",
    "    # Write the elements\n",
    "    for element in all_elements:\n",
    "        file.write(f\"CREATE (el_{element}:Element {{name: '{element}'}})\\n\")\n",
    "\n",
    "    file.write(\"\\n\")\n",
    "\n",
    "    # Write the characters\n",
    "    for char, element in all_characters.items():\n",
    "        file.write(f\"CREATE (char_{char}:Character {{name: '{char}'}})\\n\")\n",
    "        file.write(f\"CREATE (char_{char})-[:HAS_ELEMENT]->(el_{element})\\n\")\n",
    "\n",
    "    file.write(\"\\n\")\n",
    "\n",
    "    # Write the teams\n",
    "    for team_id, team in all_teams.items():\n",
    "        name = []\n",
    "        for char, cons in team[\"characters\"].items():\n",
    "            name.append(f\"{char} (C{cons})\")\n",
    "        \n",
    "        name = \", \".join(name)\n",
    "\n",
    "        file.write(f\"CREATE (team_{team_id}:Team {{id: \\\"{team_id}\\\", name: \\\"{name}\\\", dps: {team['dps']}}})\\n\")\n",
    "\n",
    "        for char, cons in team[\"characters\"].items():\n",
    "            file.write(f\"CREATE (char_{char})-[:IN_TEAM {{cons: {cons}}}]->(team_{team_id})\\n\")\n",
    "\n",
    "    file.write(\";\\n\")\n",
    "    file.close()"
   ]
  },
  {
   "cell_type": "code",
   "execution_count": 55,
   "metadata": {},
   "outputs": [],
   "source": [
    "write_cypher()"
   ]
  }
 ],
 "metadata": {
  "kernelspec": {
   "display_name": ".venv",
   "language": "python",
   "name": "python3"
  },
  "language_info": {
   "codemirror_mode": {
    "name": "ipython",
    "version": 3
   },
   "file_extension": ".py",
   "mimetype": "text/x-python",
   "name": "python",
   "nbconvert_exporter": "python",
   "pygments_lexer": "ipython3",
   "version": "3.12.3"
  }
 },
 "nbformat": 4,
 "nbformat_minor": 2
}
