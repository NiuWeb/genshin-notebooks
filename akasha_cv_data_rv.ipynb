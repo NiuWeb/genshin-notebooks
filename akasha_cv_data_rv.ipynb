{
  "cells": [
    {
      "cell_type": "markdown",
      "metadata": {
        "id": "3Y-5Sg9Hag_E"
      },
      "source": [
        "## 0. Setup"
      ]
    },
    {
      "cell_type": "code",
      "execution_count": null,
      "metadata": {
        "colab": {
          "base_uri": "https://localhost:8080/"
        },
        "id": "c5m1JBtgag_G",
        "outputId": "f14da4c0-4da1-4804-9564-c4eebb0a691b"
      },
      "outputs": [
        {
          "name": "stdout",
          "output_type": "stream",
          "text": [
            "Requirement already satisfied: tqdm in /usr/local/lib/python3.10/dist-packages (4.66.4)\n",
            "Requirement already satisfied: rich in /usr/local/lib/python3.10/dist-packages (13.7.1)\n",
            "Requirement already satisfied: markdown-it-py>=2.2.0 in /usr/local/lib/python3.10/dist-packages (from rich) (3.0.0)\n",
            "Requirement already satisfied: pygments<3.0.0,>=2.13.0 in /usr/local/lib/python3.10/dist-packages (from rich) (2.16.1)\n",
            "Requirement already satisfied: mdurl~=0.1 in /usr/local/lib/python3.10/dist-packages (from markdown-it-py>=2.2.0->rich) (0.1.2)\n"
          ]
        }
      ],
      "source": [
        "%pip install tqdm\n",
        "%pip install rich"
      ]
    },
    {
      "cell_type": "code",
      "execution_count": null,
      "metadata": {
        "id": "Lsytwt8Fag_H"
      },
      "outputs": [],
      "source": [
        "import requests\n",
        "import pandas\n",
        "from re import sub\n",
        "from tqdm import tqdm\n",
        "import matplotlib.pyplot as plt\n",
        "from scipy.stats import gaussian_kde\n",
        "import numpy as np\n",
        "from time import sleep\n",
        "import threading\n",
        "import concurrent.futures\n",
        "from rich.progress import Progress\n",
        "from collections import defaultdict"
      ]
    },
    {
      "cell_type": "markdown",
      "metadata": {
        "id": "VcKd2IWKag_H"
      },
      "source": [
        "## 1. Utility functions and constants"
      ]
    },
    {
      "cell_type": "code",
      "execution_count": null,
      "metadata": {
        "id": "pIF47qtwag_H"
      },
      "outputs": [],
      "source": [
        "API_URL = \"https://akasha.cv/api/leaderboards\"\n",
        "INFINITY = float(\"inf\")\n",
        "MAX_PAGES = 1000  # 1000 pages * 20 entries per page = 20_000 entries\n"
      ]
    },
    {
      "cell_type": "code",
      "execution_count": null,
      "metadata": {
        "id": "ovndJXXjag_I"
      },
      "outputs": [],
      "source": [
        "def snake_case(s):\n",
        "    \"\"\"\n",
        "    Utility function to convert a string to 'this_format'\n",
        "    \"\"\"\n",
        "    return sub(r\"_+\", \"_\", sub(r\"((?<!^)(?=[A-Z])|[^a-zA-Z0-9])\", \"_\", s)).lower()\n"
      ]
    },
    {
      "cell_type": "code",
      "execution_count": null,
      "metadata": {
        "colab": {
          "base_uri": "https://localhost:8080/",
          "height": 35
        },
        "id": "yyKLKrvIyTuK",
        "outputId": "727a71a5-c174-4448-869f-74f28eef33da"
      },
      "outputs": [
        {
          "data": {
            "application/vnd.google.colaboratory.intrinsic+json": {
              "type": "string"
            },
            "text/plain": [
              "'convert_this_value_to_snake_case'"
            ]
          },
          "execution_count": 5,
          "metadata": {},
          "output_type": "execute_result"
        }
      ],
      "source": [
        "snake_case(\"Convert ThisValue To snake_case\")\n"
      ]
    },
    {
      "cell_type": "markdown",
      "metadata": {
        "id": "XWPdPoDkag_I"
      },
      "source": [
        "## 2. Fetch the data from Akasha.cv API"
      ]
    },
    {
      "cell_type": "code",
      "execution_count": null,
      "metadata": {
        "id": "GAILxJ8rag_I"
      },
      "outputs": [],
      "source": [
        "def get_akasha_lb(calculation_id, variant=\"\", lower_bound=INFINITY, retries=10):\n",
        "    \"\"\"\n",
        "    Gets a single page from the Akasha.cv API for the given calculation id and variant,\n",
        "    applying the given lower bound constraint to the results.\n",
        "    \"\"\"\n",
        "    params = {\n",
        "        \"sort\": \"calculation.result\",\n",
        "        \"order\": -1,\n",
        "        \"p\": \"lt|\" + (\"Infinity\" if lower_bound == INFINITY else str(lower_bound)),\n",
        "        \"calculationId\": calculation_id,\n",
        "        \"variant\": variant\n",
        "    }\n",
        "    try:\n",
        "        req = requests.get(API_URL, params)\n",
        "    except:\n",
        "        for _ in range(retries):\n",
        "            print(f\"Request failed. Retrying\")\n",
        "            sleep(0.5)\n",
        "            try:\n",
        "                req = requests.get(API_URL, params)\n",
        "            except:\n",
        "                pass\n",
        "            if req.ok:\n",
        "                break\n",
        "\n",
        "    data = req.json()\n",
        "\n",
        "    # Insert the variant into the data\n",
        "    for entry in data[\"data\"]:\n",
        "        entry[\"variant\"] = variant\n",
        "\n",
        "    return data[\"data\"]\n"
      ]
    },
    {
      "cell_type": "code",
      "execution_count": null,
      "metadata": {
        "id": "xnRyCkSEag_I"
      },
      "outputs": [],
      "source": [
        "def get_akasha(calculation_id, variant=\"\", max=100, log=None):\n",
        "    \"\"\"\n",
        "    Gets the data from the Akasha.cv API for the given calculation id and variant,\n",
        "    with a maximum number of pages.\n",
        "    \"\"\"\n",
        "\n",
        "    results = []\n",
        "\n",
        "    id = (calculation_id, variant)\n",
        "    if log:\n",
        "        log.init(id, max, desc=f\"Getting {str(id)}\")\n",
        "\n",
        "    lb = INFINITY\n",
        "    for i in range(max):\n",
        "        if log and (i % 10 == 0 or i == max - 1):\n",
        "            log.update(id, i)\n",
        "        page = get_akasha_lb(calculation_id, variant, lb)\n",
        "        if len(page) == 0:\n",
        "            break\n",
        "\n",
        "        for p in page:\n",
        "            results.append(p)\n",
        "        lb = page[-1][\"calculation\"][\"result\"]\n",
        "\n",
        "    return results\n"
      ]
    },
    {
      "cell_type": "markdown",
      "metadata": {
        "id": "zs9baHyAag_I"
      },
      "source": [
        "## 3. Transform the JSON data into a DataFrame"
      ]
    },
    {
      "cell_type": "code",
      "execution_count": null,
      "metadata": {
        "id": "5d-eB8GWag_I"
      },
      "outputs": [],
      "source": [
        "def normalize_akasha_data_row(json):\n",
        "    \"\"\"\n",
        "    Convert a row of the Akasha.cv API response to a flat dictionary\n",
        "    \"\"\"\n",
        "    def get_mainstat(name):\n",
        "        name = json[\"artifactObjects\"][name][\"mainStatKey\"] \\\n",
        "            if name in json[\"artifactObjects\"] \\\n",
        "            else None\n",
        "        return snake_case(name) if name else None\n",
        "\n",
        "    def get_set(n_piece, index=0):\n",
        "        \"\"\"\n",
        "        Get the n_piece-piece set\n",
        "        \"\"\"\n",
        "        i = 0\n",
        "\n",
        "        for set_name in json[\"artifactSets\"]:\n",
        "            set_count = json[\"artifactSets\"][set_name][\"count\"]\n",
        "            if set_count == n_piece:\n",
        "                if i == index:\n",
        "                    return snake_case(set_name)\n",
        "                i += 1\n",
        "\n",
        "        return None\n",
        "\n",
        "    def get_stats():\n",
        "        dict = {}\n",
        "        for stat in json[\"stats\"]:\n",
        "            dict[snake_case(stat)] = json[\"stats\"][stat][\"value\"]\n",
        "        return dict\n",
        "\n",
        "    flat = {\n",
        "        \"uid\": json[\"uid\"],\n",
        "        \"name\": snake_case(json[\"name\"]),\n",
        "        \"player\": json[\"owner\"][\"nickname\"],\n",
        "        \"calculation_id\": json[\"calculation\"][\"id\"],\n",
        "        \"md5\": json[\"md5\"],\n",
        "        \"variant\": json[\"variant\"],\n",
        "        \"calculation_result\": json[\"calculation\"][\"result\"],\n",
        "        \"crit_value\": json[\"critValue\"],\n",
        "        \"sands\": get_mainstat(\"EQUIP_SHOES\"),\n",
        "        \"goblet\": get_mainstat(\"EQUIP_RING\"),\n",
        "        \"circlet\": get_mainstat(\"EQUIP_DRESS\"),\n",
        "        \"real_weapon\": snake_case(json[\"weapon\"][\"name\"]),\n",
        "        \"set_2_1\": get_set(2),\n",
        "        \"set_2_2\": get_set(2, 1),\n",
        "        \"set_4\": get_set(4),\n",
        "        \"stats\": get_stats()\n",
        "    }\n",
        "    return flat\n"
      ]
    },
    {
      "cell_type": "code",
      "execution_count": null,
      "metadata": {
        "id": "dIZEA1rFag_I"
      },
      "outputs": [],
      "source": [
        "def normalize_akasha_data(data):\n",
        "    \"\"\"\n",
        "    Convert the Akasha.cv API response to a flat dictionary\n",
        "    \"\"\"\n",
        "    dfs = []\n",
        "    for row in tqdm(data):\n",
        "        flat = normalize_akasha_data_row(row)\n",
        "        flat = pandas.json_normalize(flat)\n",
        "        dfs.append(flat)\n",
        "\n",
        "    df = pandas.concat(dfs, ignore_index=True)\n",
        "    return df\n"
      ]
    },
    {
      "cell_type": "code",
      "execution_count": null,
      "metadata": {
        "id": "t_O3axT1nZ6k"
      },
      "outputs": [],
      "source": [
        "class LogProgress:\n",
        "    def __init__(self):\n",
        "        self.progress = Progress(transient=True)\n",
        "        self.bars = {}\n",
        "        self.last = {}\n",
        "        self.lock = threading.Lock()\n",
        "\n",
        "    def init(self, index, total, desc=\"\"):\n",
        "        self.lock.acquire()\n",
        "        self.bars[index] = self.progress.add_task(desc, total=total)\n",
        "        self.last[index] = 0\n",
        "        self.lock.release()\n",
        "\n",
        "    def update(self, index, value):\n",
        "        self.lock.acquire()\n",
        "        with self.progress as progress:\n",
        "            progress.update(self.bars[index], advance=value - self.last[index])\n",
        "            self.last[index] = value\n",
        "        self.lock.release()"
      ]
    },
    {
      "cell_type": "markdown",
      "metadata": {
        "id": "SwXmAiLQag_J"
      },
      "source": [
        "## 4. Get the data"
      ]
    },
    {
      "cell_type": "code",
      "execution_count": null,
      "metadata": {
        "id": "mEI7A7xjag_J"
      },
      "outputs": [],
      "source": [
        "raw_data_requests = [\n",
        "    (\"1000002300\", \"200er\"),  # Xiangling - National Pyronado Vape Avg DMG (The Catch)\n",
        "]\n"
      ]
    },
    {
      "cell_type": "code",
      "execution_count": null,
      "metadata": {
        "id": "EriIHbM1ag_J"
      },
      "outputs": [],
      "source": [
        "def get_akasha_with_args(args, log=None):\n",
        "    if type(args) != tuple:\n",
        "        args = (args,)\n",
        "\n",
        "    if len(args) == 1:\n",
        "        return get_akasha(args[0], max=MAX_PAGES, log=log)\n",
        "    elif len(args) == 2:\n",
        "        return get_akasha(args[0], args[1], max=MAX_PAGES, log=log)\n"
      ]
    },
    {
      "cell_type": "code",
      "execution_count": null,
      "metadata": {
        "colab": {
          "base_uri": "https://localhost:8080/",
          "height": 34,
          "referenced_widgets": [
            "15b1d29bbc0c484d8fac4cf335d6f5c7",
            "d4e6c5b5be4a42439f3380c873c1ccf4"
          ]
        },
        "id": "5F8KcF-pag_J",
        "outputId": "15e9cc3a-5e00-4ebd-a7c2-6bbf1ad5dd6b"
      },
      "outputs": [
        {
          "data": {
            "text/html": [
              "<pre style=\"white-space:pre;overflow-x:auto;line-height:normal;font-family:Menlo,'DejaVu Sans Mono',consolas,'Courier New',monospace\">Getting ('1000002300', '200er') <span style=\"color: #f92672; text-decoration-color: #f92672\">━━━━━━━━━━━━━━━━━━━━━━━━━━━━━━━━━━━━━━━╸</span> <span style=\"color: #800080; text-decoration-color: #800080\"> 99%</span> <span style=\"color: #008080; text-decoration-color: #008080\">0:00:02</span>\n",
              "</pre>\n"
            ],
            "text/plain": [
              "Getting ('1000002300', '200er') \u001b[38;2;249;38;114m━━━━━━━━━━━━━━━━━━━━━━━━━━━━━━━━━━━━━━━\u001b[0m\u001b[38;2;249;38;114m╸\u001b[0m \u001b[35m 99%\u001b[0m \u001b[36m0:00:02\u001b[0m\n"
            ]
          },
          "metadata": {},
          "output_type": "display_data"
        },
        {
          "data": {
            "text/html": [
              "<pre style=\"white-space:pre;overflow-x:auto;line-height:normal;font-family:Menlo,'DejaVu Sans Mono',consolas,'Courier New',monospace\"></pre>\n"
            ],
            "text/plain": []
          },
          "metadata": {},
          "output_type": "display_data"
        },
        {
          "data": {
            "text/html": [
              "<pre style=\"white-space:pre;overflow-x:auto;line-height:normal;font-family:Menlo,'DejaVu Sans Mono',consolas,'Courier New',monospace\">\n",
              "</pre>\n"
            ],
            "text/plain": [
              "\n"
            ]
          },
          "metadata": {},
          "output_type": "display_data"
        }
      ],
      "source": [
        "raw_data = []\n",
        "log = LogProgress()\n",
        "\n",
        "def create_task(args):\n",
        "    return lambda: get_akasha_with_args(args, log=log)\n",
        "\n",
        "tasks = list(map(create_task, raw_data_requests))\n",
        "\n",
        "with concurrent.futures.ThreadPoolExecutor(max_workers=12) as executor:\n",
        "    results = list(executor.map(lambda f: f(), tasks))\n",
        "    for r in results:\n",
        "        for entry in r:\n",
        "            raw_data.append(entry)"
      ]
    },
    {
      "cell_type": "code",
      "execution_count": null,
      "metadata": {
        "colab": {
          "base_uri": "https://localhost:8080/"
        },
        "id": "iRwNzEZGxnFD",
        "outputId": "09000d3c-67f6-4f84-9746-b9be5f09bece"
      },
      "outputs": [
        {
          "data": {
            "text/plain": [
              "20000"
            ]
          },
          "execution_count": 14,
          "metadata": {},
          "output_type": "execute_result"
        }
      ],
      "source": [
        "len(raw_data)\n"
      ]
    },
    {
      "cell_type": "code",
      "execution_count": null,
      "metadata": {
        "colab": {
          "base_uri": "https://localhost:8080/"
        },
        "id": "tDIRkUIWag_J",
        "outputId": "444d4d66-0e60-4e7d-fba4-1b0644c99dac"
      },
      "outputs": [
        {
          "name": "stderr",
          "output_type": "stream",
          "text": [
            "100%|██████████| 20000/20000 [00:26<00:00, 767.31it/s]\n"
          ]
        }
      ],
      "source": [
        "data = normalize_akasha_data(raw_data)\n",
        "# drop to avoid showing the uid in the output\n"
      ]
    },
    {
      "cell_type": "code",
      "execution_count": null,
      "metadata": {
        "id": "Mx6nIi8zag_J"
      },
      "outputs": [],
      "source": [
        "# Transformed data is saved to a CSV file so it can\n",
        "# be recovered later if you don't want to re-download\n",
        "with open(\"akasha_data.csv\", \"w\") as f:\n",
        "    f.write(data.to_csv())\n",
        "    f.close()\n"
      ]
    },
    {
      "cell_type": "code",
      "execution_count": null,
      "metadata": {
        "id": "xvyScUQ5ag_J"
      },
      "outputs": [],
      "source": [
        "# To recover the data from the local CSV file,\n",
        "# Omit all the download code above (4th section) and\n",
        "# run only the following:\n",
        "# data = pandas.read_csv(\"akasha_data.csv\")\n"
      ]
    },
    {
      "cell_type": "code",
      "execution_count": null,
      "metadata": {
        "id": "zdBBcTYYag_J"
      },
      "outputs": [],
      "source": [
        "data[\"variant\"] = data[\"variant\"].fillna(\"None\")\n"
      ]
    },
    {
      "cell_type": "code",
      "execution_count": null,
      "metadata": {
        "colab": {
          "base_uri": "https://localhost:8080/"
        },
        "id": "BAn7Nc2BpOQP",
        "outputId": "3814f400-85ff-4db0-c6bf-b555736dcae1"
      },
      "outputs": [
        {
          "data": {
            "text/plain": [
              "Index(['uid', 'name', 'player', 'calculation_id', 'md5', 'variant',\n",
              "       'calculation_result', 'crit_value', 'sands', 'goblet', 'circlet',\n",
              "       'real_weapon', 'set_2_1', 'set_2_2', 'set_4', 'stats.max_hp',\n",
              "       'stats.atk', 'stats.def', 'stats.elemental_mastery',\n",
              "       'stats.energy_recharge', 'stats.healing_bonus', 'stats.crit_rate',\n",
              "       'stats.crit_damage', 'stats.pyro_damage_bonus'],\n",
              "      dtype='object')"
            ]
          },
          "execution_count": 23,
          "metadata": {},
          "output_type": "execute_result"
        }
      ],
      "source": [
        "data.columns"
      ]
    },
    {
      "cell_type": "code",
      "execution_count": null,
      "metadata": {
        "colab": {
          "base_uri": "https://localhost:8080/",
          "height": 444
        },
        "id": "t0R-NCxkpeIZ",
        "outputId": "b4cd25cb-c901-48c1-9e77-be31aa16c088"
      },
      "outputs": [
        {
          "data": {
            "application/vnd.google.colaboratory.intrinsic+json": {
              "type": "dataframe",
              "variable_name": "data"
            },
            "text/html": [
              "\n",
              "  <div id=\"df-6f273068-d01a-474d-b11a-9f8da499c977\" class=\"colab-df-container\">\n",
              "    <div>\n",
              "<style scoped>\n",
              "    .dataframe tbody tr th:only-of-type {\n",
              "        vertical-align: middle;\n",
              "    }\n",
              "\n",
              "    .dataframe tbody tr th {\n",
              "        vertical-align: top;\n",
              "    }\n",
              "\n",
              "    .dataframe thead th {\n",
              "        text-align: right;\n",
              "    }\n",
              "</style>\n",
              "<table border=\"1\" class=\"dataframe\">\n",
              "  <thead>\n",
              "    <tr style=\"text-align: right;\">\n",
              "      <th></th>\n",
              "      <th>uid</th>\n",
              "      <th>name</th>\n",
              "      <th>player</th>\n",
              "      <th>calculation_id</th>\n",
              "      <th>md5</th>\n",
              "      <th>variant</th>\n",
              "      <th>calculation_result</th>\n",
              "      <th>crit_value</th>\n",
              "      <th>sands</th>\n",
              "      <th>goblet</th>\n",
              "      <th>...</th>\n",
              "      <th>artifact.elemental_mastery</th>\n",
              "      <th>artifact.crit_d_m_g</th>\n",
              "      <th>artifact.a_t_k_</th>\n",
              "      <th>artifact.crit_r_a_t_e</th>\n",
              "      <th>artifact.energy_recharge</th>\n",
              "      <th>artifact.h_p_</th>\n",
              "      <th>artifact.flat_d_e_f</th>\n",
              "      <th>artifact.d_e_f_</th>\n",
              "      <th>artifact.flat_a_t_k</th>\n",
              "      <th>artifact.flat_h_p</th>\n",
              "    </tr>\n",
              "  </thead>\n",
              "  <tbody>\n",
              "    <tr>\n",
              "      <th>0</th>\n",
              "      <td>601886273</td>\n",
              "      <td>xiangling</td>\n",
              "      <td>Zuko火</td>\n",
              "      <td>1000002300</td>\n",
              "      <td>1979a941902b1b38d7c6703af23d6eb4</td>\n",
              "      <td>200er</td>\n",
              "      <td>50647.959362</td>\n",
              "      <td>245.639997</td>\n",
              "      <td>elemental_mastery</td>\n",
              "      <td>pyro_d_m_g_bonus</td>\n",
              "      <td>...</td>\n",
              "      <td>72.270000</td>\n",
              "      <td>115.000000</td>\n",
              "      <td>30.910001</td>\n",
              "      <td>34.220002</td>\n",
              "      <td>34.980003</td>\n",
              "      <td>5.830001</td>\n",
              "      <td>18.520001</td>\n",
              "      <td>NaN</td>\n",
              "      <td>NaN</td>\n",
              "      <td>NaN</td>\n",
              "    </tr>\n",
              "    <tr>\n",
              "      <th>1</th>\n",
              "      <td>863514740</td>\n",
              "      <td>xiangling</td>\n",
              "      <td>Poseidon</td>\n",
              "      <td>1000002300</td>\n",
              "      <td>f32be9dd34b8485d849c120013ab691d</td>\n",
              "      <td>200er</td>\n",
              "      <td>49370.390447</td>\n",
              "      <td>253.419996</td>\n",
              "      <td>elemental_mastery</td>\n",
              "      <td>pyro_d_m_g_bonus</td>\n",
              "      <td>...</td>\n",
              "      <td>NaN</td>\n",
              "      <td>114.999999</td>\n",
              "      <td>32.060001</td>\n",
              "      <td>38.110002</td>\n",
              "      <td>35.630003</td>\n",
              "      <td>4.080001</td>\n",
              "      <td>16.200001</td>\n",
              "      <td>14.58</td>\n",
              "      <td>19.450001</td>\n",
              "      <td>NaN</td>\n",
              "    </tr>\n",
              "    <tr>\n",
              "      <th>2</th>\n",
              "      <td>607713603</td>\n",
              "      <td>xiangling</td>\n",
              "      <td>Vitor2710</td>\n",
              "      <td>1000002300</td>\n",
              "      <td>ea27137929da5f6c7be70315c753159e</td>\n",
              "      <td>200er</td>\n",
              "      <td>49227.093851</td>\n",
              "      <td>245.669998</td>\n",
              "      <td>elemental_mastery</td>\n",
              "      <td>pyro_d_m_g_bonus</td>\n",
              "      <td>...</td>\n",
              "      <td>86.249999</td>\n",
              "      <td>66.810001</td>\n",
              "      <td>13.980000</td>\n",
              "      <td>58.330001</td>\n",
              "      <td>40.160003</td>\n",
              "      <td>4.080001</td>\n",
              "      <td>23.150000</td>\n",
              "      <td>NaN</td>\n",
              "      <td>13.620000</td>\n",
              "      <td>NaN</td>\n",
              "    </tr>\n",
              "    <tr>\n",
              "      <th>3</th>\n",
              "      <td>824316661</td>\n",
              "      <td>xiangling</td>\n",
              "      <td>JackyTan</td>\n",
              "      <td>1000002300</td>\n",
              "      <td>0d2d7ae20438245e92eddaf97af3b1a4</td>\n",
              "      <td>200er</td>\n",
              "      <td>49182.150092</td>\n",
              "      <td>233.989998</td>\n",
              "      <td>elemental_mastery</td>\n",
              "      <td>pyro_d_m_g_bonus</td>\n",
              "      <td>...</td>\n",
              "      <td>46.620001</td>\n",
              "      <td>96.350001</td>\n",
              "      <td>41.970003</td>\n",
              "      <td>37.720002</td>\n",
              "      <td>38.210002</td>\n",
              "      <td>NaN</td>\n",
              "      <td>NaN</td>\n",
              "      <td>NaN</td>\n",
              "      <td>13.620001</td>\n",
              "      <td>239.000001</td>\n",
              "    </tr>\n",
              "    <tr>\n",
              "      <th>4</th>\n",
              "      <td>600451889</td>\n",
              "      <td>xiangling</td>\n",
              "      <td>Moca</td>\n",
              "      <td>1000002300</td>\n",
              "      <td>2267b96cbe7802a3e46191f83e7ad7d2</td>\n",
              "      <td>200er</td>\n",
              "      <td>49147.469285</td>\n",
              "      <td>235.539996</td>\n",
              "      <td>elemental_mastery</td>\n",
              "      <td>pyro_d_m_g_bonus</td>\n",
              "      <td>...</td>\n",
              "      <td>104.899999</td>\n",
              "      <td>101.780000</td>\n",
              "      <td>20.400002</td>\n",
              "      <td>35.780002</td>\n",
              "      <td>44.690004</td>\n",
              "      <td>NaN</td>\n",
              "      <td>NaN</td>\n",
              "      <td>NaN</td>\n",
              "      <td>NaN</td>\n",
              "      <td>298.750000</td>\n",
              "    </tr>\n",
              "    <tr>\n",
              "      <th>...</th>\n",
              "      <td>...</td>\n",
              "      <td>...</td>\n",
              "      <td>...</td>\n",
              "      <td>...</td>\n",
              "      <td>...</td>\n",
              "      <td>...</td>\n",
              "      <td>...</td>\n",
              "      <td>...</td>\n",
              "      <td>...</td>\n",
              "      <td>...</td>\n",
              "      <td>...</td>\n",
              "      <td>...</td>\n",
              "      <td>...</td>\n",
              "      <td>...</td>\n",
              "      <td>...</td>\n",
              "      <td>...</td>\n",
              "      <td>...</td>\n",
              "      <td>...</td>\n",
              "      <td>...</td>\n",
              "      <td>...</td>\n",
              "      <td>...</td>\n",
              "    </tr>\n",
              "    <tr>\n",
              "      <th>19995</th>\n",
              "      <td>762512680</td>\n",
              "      <td>xiangling</td>\n",
              "      <td>nameless_man</td>\n",
              "      <td>1000002300</td>\n",
              "      <td>db86b20785f383ba52466c9b99474d48</td>\n",
              "      <td>200er</td>\n",
              "      <td>38453.725448</td>\n",
              "      <td>227.789996</td>\n",
              "      <td>energy_recharge</td>\n",
              "      <td>pyro_d_m_g_bonus</td>\n",
              "      <td>...</td>\n",
              "      <td>NaN</td>\n",
              "      <td>NaN</td>\n",
              "      <td>NaN</td>\n",
              "      <td>NaN</td>\n",
              "      <td>NaN</td>\n",
              "      <td>NaN</td>\n",
              "      <td>NaN</td>\n",
              "      <td>NaN</td>\n",
              "      <td>NaN</td>\n",
              "      <td>NaN</td>\n",
              "    </tr>\n",
              "    <tr>\n",
              "      <th>19996</th>\n",
              "      <td>iml1xs</td>\n",
              "      <td>xiangling</td>\n",
              "      <td>nameless_man</td>\n",
              "      <td>1000002300</td>\n",
              "      <td>9a186087a138871a083bdd60bcd9628e</td>\n",
              "      <td>200er</td>\n",
              "      <td>38453.724214</td>\n",
              "      <td>227.789997</td>\n",
              "      <td>energy_recharge</td>\n",
              "      <td>pyro_d_m_g_bonus</td>\n",
              "      <td>...</td>\n",
              "      <td>NaN</td>\n",
              "      <td>NaN</td>\n",
              "      <td>NaN</td>\n",
              "      <td>NaN</td>\n",
              "      <td>NaN</td>\n",
              "      <td>NaN</td>\n",
              "      <td>NaN</td>\n",
              "      <td>NaN</td>\n",
              "      <td>NaN</td>\n",
              "      <td>NaN</td>\n",
              "    </tr>\n",
              "    <tr>\n",
              "      <th>19997</th>\n",
              "      <td>802273627</td>\n",
              "      <td>xiangling</td>\n",
              "      <td>Drifter</td>\n",
              "      <td>1000002300</td>\n",
              "      <td>182deed9d31c7c04ab40182b471b8132</td>\n",
              "      <td>200er</td>\n",
              "      <td>38453.661036</td>\n",
              "      <td>181.139999</td>\n",
              "      <td>elemental_mastery</td>\n",
              "      <td>pyro_d_m_g_bonus</td>\n",
              "      <td>...</td>\n",
              "      <td>NaN</td>\n",
              "      <td>NaN</td>\n",
              "      <td>NaN</td>\n",
              "      <td>NaN</td>\n",
              "      <td>NaN</td>\n",
              "      <td>NaN</td>\n",
              "      <td>NaN</td>\n",
              "      <td>NaN</td>\n",
              "      <td>NaN</td>\n",
              "      <td>NaN</td>\n",
              "    </tr>\n",
              "    <tr>\n",
              "      <th>19998</th>\n",
              "      <td>708288195</td>\n",
              "      <td>xiangling</td>\n",
              "      <td>molo</td>\n",
              "      <td>1000002300</td>\n",
              "      <td>9a8c5a98eb894fa7abdfe9a231e5aee6</td>\n",
              "      <td>200er</td>\n",
              "      <td>38453.509895</td>\n",
              "      <td>174.909999</td>\n",
              "      <td>elemental_mastery</td>\n",
              "      <td>pyro_d_m_g_bonus</td>\n",
              "      <td>...</td>\n",
              "      <td>NaN</td>\n",
              "      <td>NaN</td>\n",
              "      <td>NaN</td>\n",
              "      <td>NaN</td>\n",
              "      <td>NaN</td>\n",
              "      <td>NaN</td>\n",
              "      <td>NaN</td>\n",
              "      <td>NaN</td>\n",
              "      <td>NaN</td>\n",
              "      <td>NaN</td>\n",
              "    </tr>\n",
              "    <tr>\n",
              "      <th>19999</th>\n",
              "      <td>700268371</td>\n",
              "      <td>xiangling</td>\n",
              "      <td>Leira</td>\n",
              "      <td>1000002300</td>\n",
              "      <td>93081bf6bc79f98235041e6b0ce2fbd8</td>\n",
              "      <td>200er</td>\n",
              "      <td>38453.327351</td>\n",
              "      <td>198.239997</td>\n",
              "      <td>energy_recharge</td>\n",
              "      <td>pyro_d_m_g_bonus</td>\n",
              "      <td>...</td>\n",
              "      <td>NaN</td>\n",
              "      <td>NaN</td>\n",
              "      <td>NaN</td>\n",
              "      <td>NaN</td>\n",
              "      <td>NaN</td>\n",
              "      <td>NaN</td>\n",
              "      <td>NaN</td>\n",
              "      <td>NaN</td>\n",
              "      <td>NaN</td>\n",
              "      <td>NaN</td>\n",
              "    </tr>\n",
              "  </tbody>\n",
              "</table>\n",
              "<p>20000 rows × 34 columns</p>\n",
              "</div>\n",
              "    <div class=\"colab-df-buttons\">\n",
              "\n",
              "  <div class=\"colab-df-container\">\n",
              "    <button class=\"colab-df-convert\" onclick=\"convertToInteractive('df-6f273068-d01a-474d-b11a-9f8da499c977')\"\n",
              "            title=\"Convert this dataframe to an interactive table.\"\n",
              "            style=\"display:none;\">\n",
              "\n",
              "  <svg xmlns=\"http://www.w3.org/2000/svg\" height=\"24px\" viewBox=\"0 -960 960 960\">\n",
              "    <path d=\"M120-120v-720h720v720H120Zm60-500h600v-160H180v160Zm220 220h160v-160H400v160Zm0 220h160v-160H400v160ZM180-400h160v-160H180v160Zm440 0h160v-160H620v160ZM180-180h160v-160H180v160Zm440 0h160v-160H620v160Z\"/>\n",
              "  </svg>\n",
              "    </button>\n",
              "\n",
              "  <style>\n",
              "    .colab-df-container {\n",
              "      display:flex;\n",
              "      gap: 12px;\n",
              "    }\n",
              "\n",
              "    .colab-df-convert {\n",
              "      background-color: #E8F0FE;\n",
              "      border: none;\n",
              "      border-radius: 50%;\n",
              "      cursor: pointer;\n",
              "      display: none;\n",
              "      fill: #1967D2;\n",
              "      height: 32px;\n",
              "      padding: 0 0 0 0;\n",
              "      width: 32px;\n",
              "    }\n",
              "\n",
              "    .colab-df-convert:hover {\n",
              "      background-color: #E2EBFA;\n",
              "      box-shadow: 0px 1px 2px rgba(60, 64, 67, 0.3), 0px 1px 3px 1px rgba(60, 64, 67, 0.15);\n",
              "      fill: #174EA6;\n",
              "    }\n",
              "\n",
              "    .colab-df-buttons div {\n",
              "      margin-bottom: 4px;\n",
              "    }\n",
              "\n",
              "    [theme=dark] .colab-df-convert {\n",
              "      background-color: #3B4455;\n",
              "      fill: #D2E3FC;\n",
              "    }\n",
              "\n",
              "    [theme=dark] .colab-df-convert:hover {\n",
              "      background-color: #434B5C;\n",
              "      box-shadow: 0px 1px 3px 1px rgba(0, 0, 0, 0.15);\n",
              "      filter: drop-shadow(0px 1px 2px rgba(0, 0, 0, 0.3));\n",
              "      fill: #FFFFFF;\n",
              "    }\n",
              "  </style>\n",
              "\n",
              "    <script>\n",
              "      const buttonEl =\n",
              "        document.querySelector('#df-6f273068-d01a-474d-b11a-9f8da499c977 button.colab-df-convert');\n",
              "      buttonEl.style.display =\n",
              "        google.colab.kernel.accessAllowed ? 'block' : 'none';\n",
              "\n",
              "      async function convertToInteractive(key) {\n",
              "        const element = document.querySelector('#df-6f273068-d01a-474d-b11a-9f8da499c977');\n",
              "        const dataTable =\n",
              "          await google.colab.kernel.invokeFunction('convertToInteractive',\n",
              "                                                    [key], {});\n",
              "        if (!dataTable) return;\n",
              "\n",
              "        const docLinkHtml = 'Like what you see? Visit the ' +\n",
              "          '<a target=\"_blank\" href=https://colab.research.google.com/notebooks/data_table.ipynb>data table notebook</a>'\n",
              "          + ' to learn more about interactive tables.';\n",
              "        element.innerHTML = '';\n",
              "        dataTable['output_type'] = 'display_data';\n",
              "        await google.colab.output.renderOutput(dataTable, element);\n",
              "        const docLink = document.createElement('div');\n",
              "        docLink.innerHTML = docLinkHtml;\n",
              "        element.appendChild(docLink);\n",
              "      }\n",
              "    </script>\n",
              "  </div>\n",
              "\n",
              "\n",
              "<div id=\"df-07f32ab8-019f-405f-bb48-96b91a56c6d1\">\n",
              "  <button class=\"colab-df-quickchart\" onclick=\"quickchart('df-07f32ab8-019f-405f-bb48-96b91a56c6d1')\"\n",
              "            title=\"Suggest charts\"\n",
              "            style=\"display:none;\">\n",
              "\n",
              "<svg xmlns=\"http://www.w3.org/2000/svg\" height=\"24px\"viewBox=\"0 0 24 24\"\n",
              "     width=\"24px\">\n",
              "    <g>\n",
              "        <path d=\"M19 3H5c-1.1 0-2 .9-2 2v14c0 1.1.9 2 2 2h14c1.1 0 2-.9 2-2V5c0-1.1-.9-2-2-2zM9 17H7v-7h2v7zm4 0h-2V7h2v10zm4 0h-2v-4h2v4z\"/>\n",
              "    </g>\n",
              "</svg>\n",
              "  </button>\n",
              "\n",
              "<style>\n",
              "  .colab-df-quickchart {\n",
              "      --bg-color: #E8F0FE;\n",
              "      --fill-color: #1967D2;\n",
              "      --hover-bg-color: #E2EBFA;\n",
              "      --hover-fill-color: #174EA6;\n",
              "      --disabled-fill-color: #AAA;\n",
              "      --disabled-bg-color: #DDD;\n",
              "  }\n",
              "\n",
              "  [theme=dark] .colab-df-quickchart {\n",
              "      --bg-color: #3B4455;\n",
              "      --fill-color: #D2E3FC;\n",
              "      --hover-bg-color: #434B5C;\n",
              "      --hover-fill-color: #FFFFFF;\n",
              "      --disabled-bg-color: #3B4455;\n",
              "      --disabled-fill-color: #666;\n",
              "  }\n",
              "\n",
              "  .colab-df-quickchart {\n",
              "    background-color: var(--bg-color);\n",
              "    border: none;\n",
              "    border-radius: 50%;\n",
              "    cursor: pointer;\n",
              "    display: none;\n",
              "    fill: var(--fill-color);\n",
              "    height: 32px;\n",
              "    padding: 0;\n",
              "    width: 32px;\n",
              "  }\n",
              "\n",
              "  .colab-df-quickchart:hover {\n",
              "    background-color: var(--hover-bg-color);\n",
              "    box-shadow: 0 1px 2px rgba(60, 64, 67, 0.3), 0 1px 3px 1px rgba(60, 64, 67, 0.15);\n",
              "    fill: var(--button-hover-fill-color);\n",
              "  }\n",
              "\n",
              "  .colab-df-quickchart-complete:disabled,\n",
              "  .colab-df-quickchart-complete:disabled:hover {\n",
              "    background-color: var(--disabled-bg-color);\n",
              "    fill: var(--disabled-fill-color);\n",
              "    box-shadow: none;\n",
              "  }\n",
              "\n",
              "  .colab-df-spinner {\n",
              "    border: 2px solid var(--fill-color);\n",
              "    border-color: transparent;\n",
              "    border-bottom-color: var(--fill-color);\n",
              "    animation:\n",
              "      spin 1s steps(1) infinite;\n",
              "  }\n",
              "\n",
              "  @keyframes spin {\n",
              "    0% {\n",
              "      border-color: transparent;\n",
              "      border-bottom-color: var(--fill-color);\n",
              "      border-left-color: var(--fill-color);\n",
              "    }\n",
              "    20% {\n",
              "      border-color: transparent;\n",
              "      border-left-color: var(--fill-color);\n",
              "      border-top-color: var(--fill-color);\n",
              "    }\n",
              "    30% {\n",
              "      border-color: transparent;\n",
              "      border-left-color: var(--fill-color);\n",
              "      border-top-color: var(--fill-color);\n",
              "      border-right-color: var(--fill-color);\n",
              "    }\n",
              "    40% {\n",
              "      border-color: transparent;\n",
              "      border-right-color: var(--fill-color);\n",
              "      border-top-color: var(--fill-color);\n",
              "    }\n",
              "    60% {\n",
              "      border-color: transparent;\n",
              "      border-right-color: var(--fill-color);\n",
              "    }\n",
              "    80% {\n",
              "      border-color: transparent;\n",
              "      border-right-color: var(--fill-color);\n",
              "      border-bottom-color: var(--fill-color);\n",
              "    }\n",
              "    90% {\n",
              "      border-color: transparent;\n",
              "      border-bottom-color: var(--fill-color);\n",
              "    }\n",
              "  }\n",
              "</style>\n",
              "\n",
              "  <script>\n",
              "    async function quickchart(key) {\n",
              "      const quickchartButtonEl =\n",
              "        document.querySelector('#' + key + ' button');\n",
              "      quickchartButtonEl.disabled = true;  // To prevent multiple clicks.\n",
              "      quickchartButtonEl.classList.add('colab-df-spinner');\n",
              "      try {\n",
              "        const charts = await google.colab.kernel.invokeFunction(\n",
              "            'suggestCharts', [key], {});\n",
              "      } catch (error) {\n",
              "        console.error('Error during call to suggestCharts:', error);\n",
              "      }\n",
              "      quickchartButtonEl.classList.remove('colab-df-spinner');\n",
              "      quickchartButtonEl.classList.add('colab-df-quickchart-complete');\n",
              "    }\n",
              "    (() => {\n",
              "      let quickchartButtonEl =\n",
              "        document.querySelector('#df-07f32ab8-019f-405f-bb48-96b91a56c6d1 button');\n",
              "      quickchartButtonEl.style.display =\n",
              "        google.colab.kernel.accessAllowed ? 'block' : 'none';\n",
              "    })();\n",
              "  </script>\n",
              "</div>\n",
              "\n",
              "  <div id=\"id_4f9815b2-d127-4d97-8719-35414f12debd\">\n",
              "    <style>\n",
              "      .colab-df-generate {\n",
              "        background-color: #E8F0FE;\n",
              "        border: none;\n",
              "        border-radius: 50%;\n",
              "        cursor: pointer;\n",
              "        display: none;\n",
              "        fill: #1967D2;\n",
              "        height: 32px;\n",
              "        padding: 0 0 0 0;\n",
              "        width: 32px;\n",
              "      }\n",
              "\n",
              "      .colab-df-generate:hover {\n",
              "        background-color: #E2EBFA;\n",
              "        box-shadow: 0px 1px 2px rgba(60, 64, 67, 0.3), 0px 1px 3px 1px rgba(60, 64, 67, 0.15);\n",
              "        fill: #174EA6;\n",
              "      }\n",
              "\n",
              "      [theme=dark] .colab-df-generate {\n",
              "        background-color: #3B4455;\n",
              "        fill: #D2E3FC;\n",
              "      }\n",
              "\n",
              "      [theme=dark] .colab-df-generate:hover {\n",
              "        background-color: #434B5C;\n",
              "        box-shadow: 0px 1px 3px 1px rgba(0, 0, 0, 0.15);\n",
              "        filter: drop-shadow(0px 1px 2px rgba(0, 0, 0, 0.3));\n",
              "        fill: #FFFFFF;\n",
              "      }\n",
              "    </style>\n",
              "    <button class=\"colab-df-generate\" onclick=\"generateWithVariable('data')\"\n",
              "            title=\"Generate code using this dataframe.\"\n",
              "            style=\"display:none;\">\n",
              "\n",
              "  <svg xmlns=\"http://www.w3.org/2000/svg\" height=\"24px\"viewBox=\"0 0 24 24\"\n",
              "       width=\"24px\">\n",
              "    <path d=\"M7,19H8.4L18.45,9,17,7.55,7,17.6ZM5,21V16.75L18.45,3.32a2,2,0,0,1,2.83,0l1.4,1.43a1.91,1.91,0,0,1,.58,1.4,1.91,1.91,0,0,1-.58,1.4L9.25,21ZM18.45,9,17,7.55Zm-12,3A5.31,5.31,0,0,0,4.9,8.1,5.31,5.31,0,0,0,1,6.5,5.31,5.31,0,0,0,4.9,4.9,5.31,5.31,0,0,0,6.5,1,5.31,5.31,0,0,0,8.1,4.9,5.31,5.31,0,0,0,12,6.5,5.46,5.46,0,0,0,6.5,12Z\"/>\n",
              "  </svg>\n",
              "    </button>\n",
              "    <script>\n",
              "      (() => {\n",
              "      const buttonEl =\n",
              "        document.querySelector('#id_4f9815b2-d127-4d97-8719-35414f12debd button.colab-df-generate');\n",
              "      buttonEl.style.display =\n",
              "        google.colab.kernel.accessAllowed ? 'block' : 'none';\n",
              "\n",
              "      buttonEl.onclick = () => {\n",
              "        google.colab.notebook.generateWithVariable('data');\n",
              "      }\n",
              "      })();\n",
              "    </script>\n",
              "  </div>\n",
              "\n",
              "    </div>\n",
              "  </div>\n"
            ],
            "text/plain": [
              "             uid       name        player calculation_id  \\\n",
              "0      601886273  xiangling         Zuko火     1000002300   \n",
              "1      863514740  xiangling      Poseidon     1000002300   \n",
              "2      607713603  xiangling     Vitor2710     1000002300   \n",
              "3      824316661  xiangling      JackyTan     1000002300   \n",
              "4      600451889  xiangling          Moca     1000002300   \n",
              "...          ...        ...           ...            ...   \n",
              "19995  762512680  xiangling  nameless_man     1000002300   \n",
              "19996     iml1xs  xiangling  nameless_man     1000002300   \n",
              "19997  802273627  xiangling       Drifter     1000002300   \n",
              "19998  708288195  xiangling          molo     1000002300   \n",
              "19999  700268371  xiangling         Leira     1000002300   \n",
              "\n",
              "                                    md5 variant  calculation_result  \\\n",
              "0      1979a941902b1b38d7c6703af23d6eb4   200er        50647.959362   \n",
              "1      f32be9dd34b8485d849c120013ab691d   200er        49370.390447   \n",
              "2      ea27137929da5f6c7be70315c753159e   200er        49227.093851   \n",
              "3      0d2d7ae20438245e92eddaf97af3b1a4   200er        49182.150092   \n",
              "4      2267b96cbe7802a3e46191f83e7ad7d2   200er        49147.469285   \n",
              "...                                 ...     ...                 ...   \n",
              "19995  db86b20785f383ba52466c9b99474d48   200er        38453.725448   \n",
              "19996  9a186087a138871a083bdd60bcd9628e   200er        38453.724214   \n",
              "19997  182deed9d31c7c04ab40182b471b8132   200er        38453.661036   \n",
              "19998  9a8c5a98eb894fa7abdfe9a231e5aee6   200er        38453.509895   \n",
              "19999  93081bf6bc79f98235041e6b0ce2fbd8   200er        38453.327351   \n",
              "\n",
              "       crit_value              sands            goblet  ...  \\\n",
              "0      245.639997  elemental_mastery  pyro_d_m_g_bonus  ...   \n",
              "1      253.419996  elemental_mastery  pyro_d_m_g_bonus  ...   \n",
              "2      245.669998  elemental_mastery  pyro_d_m_g_bonus  ...   \n",
              "3      233.989998  elemental_mastery  pyro_d_m_g_bonus  ...   \n",
              "4      235.539996  elemental_mastery  pyro_d_m_g_bonus  ...   \n",
              "...           ...                ...               ...  ...   \n",
              "19995  227.789996    energy_recharge  pyro_d_m_g_bonus  ...   \n",
              "19996  227.789997    energy_recharge  pyro_d_m_g_bonus  ...   \n",
              "19997  181.139999  elemental_mastery  pyro_d_m_g_bonus  ...   \n",
              "19998  174.909999  elemental_mastery  pyro_d_m_g_bonus  ...   \n",
              "19999  198.239997    energy_recharge  pyro_d_m_g_bonus  ...   \n",
              "\n",
              "      artifact.elemental_mastery artifact.crit_d_m_g artifact.a_t_k_  \\\n",
              "0                      72.270000          115.000000       30.910001   \n",
              "1                            NaN          114.999999       32.060001   \n",
              "2                      86.249999           66.810001       13.980000   \n",
              "3                      46.620001           96.350001       41.970003   \n",
              "4                     104.899999          101.780000       20.400002   \n",
              "...                          ...                 ...             ...   \n",
              "19995                        NaN                 NaN             NaN   \n",
              "19996                        NaN                 NaN             NaN   \n",
              "19997                        NaN                 NaN             NaN   \n",
              "19998                        NaN                 NaN             NaN   \n",
              "19999                        NaN                 NaN             NaN   \n",
              "\n",
              "      artifact.crit_r_a_t_e artifact.energy_recharge  artifact.h_p_  \\\n",
              "0                 34.220002                34.980003       5.830001   \n",
              "1                 38.110002                35.630003       4.080001   \n",
              "2                 58.330001                40.160003       4.080001   \n",
              "3                 37.720002                38.210002            NaN   \n",
              "4                 35.780002                44.690004            NaN   \n",
              "...                     ...                      ...            ...   \n",
              "19995                   NaN                      NaN            NaN   \n",
              "19996                   NaN                      NaN            NaN   \n",
              "19997                   NaN                      NaN            NaN   \n",
              "19998                   NaN                      NaN            NaN   \n",
              "19999                   NaN                      NaN            NaN   \n",
              "\n",
              "       artifact.flat_d_e_f  artifact.d_e_f_  artifact.flat_a_t_k  \\\n",
              "0                18.520001              NaN                  NaN   \n",
              "1                16.200001            14.58            19.450001   \n",
              "2                23.150000              NaN            13.620000   \n",
              "3                      NaN              NaN            13.620001   \n",
              "4                      NaN              NaN                  NaN   \n",
              "...                    ...              ...                  ...   \n",
              "19995                  NaN              NaN                  NaN   \n",
              "19996                  NaN              NaN                  NaN   \n",
              "19997                  NaN              NaN                  NaN   \n",
              "19998                  NaN              NaN                  NaN   \n",
              "19999                  NaN              NaN                  NaN   \n",
              "\n",
              "       artifact.flat_h_p  \n",
              "0                    NaN  \n",
              "1                    NaN  \n",
              "2                    NaN  \n",
              "3             239.000001  \n",
              "4             298.750000  \n",
              "...                  ...  \n",
              "19995                NaN  \n",
              "19996                NaN  \n",
              "19997                NaN  \n",
              "19998                NaN  \n",
              "19999                NaN  \n",
              "\n",
              "[20000 rows x 34 columns]"
            ]
          },
          "execution_count": 35,
          "metadata": {},
          "output_type": "execute_result"
        }
      ],
      "source": [
        "data"
      ]
    },
    {
      "cell_type": "code",
      "execution_count": null,
      "metadata": {
        "colab": {
          "base_uri": "https://localhost:8080/",
          "height": 443
        },
        "id": "fSize0SmtILs",
        "outputId": "b1c1ce7a-1695-411e-8c34-4b1149507a3c"
      },
      "outputs": [
        {
          "name": "stderr",
          "output_type": "stream",
          "text": [
            "650it [01:55,  5.91it/s]"
          ]
        },
        {
          "name": "stdout",
          "output_type": "stream",
          "text": [
            "Request failed. Retrying... (1/10)\n"
          ]
        },
        {
          "name": "stderr",
          "output_type": "stream",
          "text": [
            "809it [02:24,  4.64it/s]"
          ]
        },
        {
          "name": "stdout",
          "output_type": "stream",
          "text": [
            "Request failed. Retrying... (1/10)\n"
          ]
        },
        {
          "name": "stderr",
          "output_type": "stream",
          "text": [
            "5183it [15:28,  4.81it/s]"
          ]
        },
        {
          "name": "stdout",
          "output_type": "stream",
          "text": [
            "Request failed. Retrying... (1/10)\n"
          ]
        },
        {
          "name": "stderr",
          "output_type": "stream",
          "text": [
            "8524it [25:24,  5.36it/s]"
          ]
        },
        {
          "name": "stdout",
          "output_type": "stream",
          "text": [
            "Request failed. Retrying... (1/10)\n"
          ]
        },
        {
          "name": "stderr",
          "output_type": "stream",
          "text": [
            "8692it [25:55,  5.59it/s]\n"
          ]
        },
        {
          "ename": "KeyboardInterrupt",
          "evalue": "",
          "output_type": "error",
          "traceback": [
            "\u001b[0;31m---------------------------------------------------------------------------\u001b[0m",
            "\u001b[0;31mKeyboardInterrupt\u001b[0m                         Traceback (most recent call last)",
            "\u001b[0;32m<ipython-input-37-029dc98de641>\u001b[0m in \u001b[0;36m<cell line: 30>\u001b[0;34m()\u001b[0m\n\u001b[1;32m     31\u001b[0m     \u001b[0muid\u001b[0m \u001b[0;34m=\u001b[0m \u001b[0mrow\u001b[0m\u001b[0;34m[\u001b[0m\u001b[0;34m'uid'\u001b[0m\u001b[0;34m]\u001b[0m\u001b[0;34m\u001b[0m\u001b[0;34m\u001b[0m\u001b[0m\n\u001b[1;32m     32\u001b[0m     \u001b[0mmd5\u001b[0m \u001b[0;34m=\u001b[0m \u001b[0mrow\u001b[0m\u001b[0;34m[\u001b[0m\u001b[0;34m'md5'\u001b[0m\u001b[0;34m]\u001b[0m\u001b[0;34m\u001b[0m\u001b[0;34m\u001b[0m\u001b[0m\n\u001b[0;32m---> 33\u001b[0;31m     \u001b[0msubstats\u001b[0m \u001b[0;34m=\u001b[0m \u001b[0mget_substats\u001b[0m\u001b[0;34m(\u001b[0m\u001b[0muid\u001b[0m\u001b[0;34m,\u001b[0m \u001b[0mmd5\u001b[0m\u001b[0;34m)\u001b[0m\u001b[0;34m\u001b[0m\u001b[0;34m\u001b[0m\u001b[0m\n\u001b[0m\u001b[1;32m     34\u001b[0m \u001b[0;34m\u001b[0m\u001b[0m\n\u001b[1;32m     35\u001b[0m     \u001b[0;32mfor\u001b[0m \u001b[0mstat\u001b[0m\u001b[0;34m,\u001b[0m\u001b[0mval\u001b[0m \u001b[0;32min\u001b[0m \u001b[0msubstats\u001b[0m\u001b[0;34m.\u001b[0m\u001b[0mitems\u001b[0m\u001b[0;34m(\u001b[0m\u001b[0;34m)\u001b[0m\u001b[0;34m:\u001b[0m\u001b[0;34m\u001b[0m\u001b[0;34m\u001b[0m\u001b[0m\n",
            "\u001b[0;32m<ipython-input-37-029dc98de641>\u001b[0m in \u001b[0;36mget_substats\u001b[0;34m(uid, md5, retries)\u001b[0m\n\u001b[1;32m      4\u001b[0m \u001b[0;34m\u001b[0m\u001b[0m\n\u001b[1;32m      5\u001b[0m     \u001b[0;32mtry\u001b[0m\u001b[0;34m:\u001b[0m\u001b[0;34m\u001b[0m\u001b[0;34m\u001b[0m\u001b[0m\n\u001b[0;32m----> 6\u001b[0;31m         \u001b[0mresponse\u001b[0m \u001b[0;34m=\u001b[0m \u001b[0mrequests\u001b[0m\u001b[0;34m.\u001b[0m\u001b[0mget\u001b[0m\u001b[0;34m(\u001b[0m\u001b[0murl\u001b[0m\u001b[0;34m)\u001b[0m\u001b[0;34m\u001b[0m\u001b[0;34m\u001b[0m\u001b[0m\n\u001b[0m\u001b[1;32m      7\u001b[0m     \u001b[0;32mexcept\u001b[0m \u001b[0mException\u001b[0m \u001b[0;32mas\u001b[0m \u001b[0me\u001b[0m\u001b[0;34m:\u001b[0m\u001b[0;34m\u001b[0m\u001b[0;34m\u001b[0m\u001b[0m\n\u001b[1;32m      8\u001b[0m         \u001b[0;32mfor\u001b[0m \u001b[0m_\u001b[0m \u001b[0;32min\u001b[0m \u001b[0mrange\u001b[0m\u001b[0;34m(\u001b[0m\u001b[0mretries\u001b[0m\u001b[0;34m)\u001b[0m\u001b[0;34m:\u001b[0m\u001b[0;34m\u001b[0m\u001b[0;34m\u001b[0m\u001b[0m\n",
            "\u001b[0;32m/usr/local/lib/python3.10/dist-packages/requests/api.py\u001b[0m in \u001b[0;36mget\u001b[0;34m(url, params, **kwargs)\u001b[0m\n\u001b[1;32m     71\u001b[0m     \"\"\"\n\u001b[1;32m     72\u001b[0m \u001b[0;34m\u001b[0m\u001b[0m\n\u001b[0;32m---> 73\u001b[0;31m     \u001b[0;32mreturn\u001b[0m \u001b[0mrequest\u001b[0m\u001b[0;34m(\u001b[0m\u001b[0;34m\"get\"\u001b[0m\u001b[0;34m,\u001b[0m \u001b[0murl\u001b[0m\u001b[0;34m,\u001b[0m \u001b[0mparams\u001b[0m\u001b[0;34m=\u001b[0m\u001b[0mparams\u001b[0m\u001b[0;34m,\u001b[0m \u001b[0;34m**\u001b[0m\u001b[0mkwargs\u001b[0m\u001b[0;34m)\u001b[0m\u001b[0;34m\u001b[0m\u001b[0;34m\u001b[0m\u001b[0m\n\u001b[0m\u001b[1;32m     74\u001b[0m \u001b[0;34m\u001b[0m\u001b[0m\n\u001b[1;32m     75\u001b[0m \u001b[0;34m\u001b[0m\u001b[0m\n",
            "\u001b[0;32m/usr/local/lib/python3.10/dist-packages/requests/api.py\u001b[0m in \u001b[0;36mrequest\u001b[0;34m(method, url, **kwargs)\u001b[0m\n\u001b[1;32m     57\u001b[0m     \u001b[0;31m# cases, and look like a memory leak in others.\u001b[0m\u001b[0;34m\u001b[0m\u001b[0;34m\u001b[0m\u001b[0m\n\u001b[1;32m     58\u001b[0m     \u001b[0;32mwith\u001b[0m \u001b[0msessions\u001b[0m\u001b[0;34m.\u001b[0m\u001b[0mSession\u001b[0m\u001b[0;34m(\u001b[0m\u001b[0;34m)\u001b[0m \u001b[0;32mas\u001b[0m \u001b[0msession\u001b[0m\u001b[0;34m:\u001b[0m\u001b[0;34m\u001b[0m\u001b[0;34m\u001b[0m\u001b[0m\n\u001b[0;32m---> 59\u001b[0;31m         \u001b[0;32mreturn\u001b[0m \u001b[0msession\u001b[0m\u001b[0;34m.\u001b[0m\u001b[0mrequest\u001b[0m\u001b[0;34m(\u001b[0m\u001b[0mmethod\u001b[0m\u001b[0;34m=\u001b[0m\u001b[0mmethod\u001b[0m\u001b[0;34m,\u001b[0m \u001b[0murl\u001b[0m\u001b[0;34m=\u001b[0m\u001b[0murl\u001b[0m\u001b[0;34m,\u001b[0m \u001b[0;34m**\u001b[0m\u001b[0mkwargs\u001b[0m\u001b[0;34m)\u001b[0m\u001b[0;34m\u001b[0m\u001b[0;34m\u001b[0m\u001b[0m\n\u001b[0m\u001b[1;32m     60\u001b[0m \u001b[0;34m\u001b[0m\u001b[0m\n\u001b[1;32m     61\u001b[0m \u001b[0;34m\u001b[0m\u001b[0m\n",
            "\u001b[0;32m/usr/local/lib/python3.10/dist-packages/requests/sessions.py\u001b[0m in \u001b[0;36mrequest\u001b[0;34m(self, method, url, params, data, headers, cookies, files, auth, timeout, allow_redirects, proxies, hooks, stream, verify, cert, json)\u001b[0m\n\u001b[1;32m    587\u001b[0m         }\n\u001b[1;32m    588\u001b[0m         \u001b[0msend_kwargs\u001b[0m\u001b[0;34m.\u001b[0m\u001b[0mupdate\u001b[0m\u001b[0;34m(\u001b[0m\u001b[0msettings\u001b[0m\u001b[0;34m)\u001b[0m\u001b[0;34m\u001b[0m\u001b[0;34m\u001b[0m\u001b[0m\n\u001b[0;32m--> 589\u001b[0;31m         \u001b[0mresp\u001b[0m \u001b[0;34m=\u001b[0m \u001b[0mself\u001b[0m\u001b[0;34m.\u001b[0m\u001b[0msend\u001b[0m\u001b[0;34m(\u001b[0m\u001b[0mprep\u001b[0m\u001b[0;34m,\u001b[0m \u001b[0;34m**\u001b[0m\u001b[0msend_kwargs\u001b[0m\u001b[0;34m)\u001b[0m\u001b[0;34m\u001b[0m\u001b[0;34m\u001b[0m\u001b[0m\n\u001b[0m\u001b[1;32m    590\u001b[0m \u001b[0;34m\u001b[0m\u001b[0m\n\u001b[1;32m    591\u001b[0m         \u001b[0;32mreturn\u001b[0m \u001b[0mresp\u001b[0m\u001b[0;34m\u001b[0m\u001b[0;34m\u001b[0m\u001b[0m\n",
            "\u001b[0;32m/usr/local/lib/python3.10/dist-packages/requests/sessions.py\u001b[0m in \u001b[0;36msend\u001b[0;34m(self, request, **kwargs)\u001b[0m\n\u001b[1;32m    701\u001b[0m \u001b[0;34m\u001b[0m\u001b[0m\n\u001b[1;32m    702\u001b[0m         \u001b[0;31m# Send the request\u001b[0m\u001b[0;34m\u001b[0m\u001b[0;34m\u001b[0m\u001b[0m\n\u001b[0;32m--> 703\u001b[0;31m         \u001b[0mr\u001b[0m \u001b[0;34m=\u001b[0m \u001b[0madapter\u001b[0m\u001b[0;34m.\u001b[0m\u001b[0msend\u001b[0m\u001b[0;34m(\u001b[0m\u001b[0mrequest\u001b[0m\u001b[0;34m,\u001b[0m \u001b[0;34m**\u001b[0m\u001b[0mkwargs\u001b[0m\u001b[0;34m)\u001b[0m\u001b[0;34m\u001b[0m\u001b[0;34m\u001b[0m\u001b[0m\n\u001b[0m\u001b[1;32m    704\u001b[0m \u001b[0;34m\u001b[0m\u001b[0m\n\u001b[1;32m    705\u001b[0m         \u001b[0;31m# Total elapsed time of the request (approximately)\u001b[0m\u001b[0;34m\u001b[0m\u001b[0;34m\u001b[0m\u001b[0m\n",
            "\u001b[0;32m/usr/local/lib/python3.10/dist-packages/requests/adapters.py\u001b[0m in \u001b[0;36msend\u001b[0;34m(self, request, stream, timeout, verify, cert, proxies)\u001b[0m\n\u001b[1;32m    484\u001b[0m \u001b[0;34m\u001b[0m\u001b[0m\n\u001b[1;32m    485\u001b[0m         \u001b[0;32mtry\u001b[0m\u001b[0;34m:\u001b[0m\u001b[0;34m\u001b[0m\u001b[0;34m\u001b[0m\u001b[0m\n\u001b[0;32m--> 486\u001b[0;31m             resp = conn.urlopen(\n\u001b[0m\u001b[1;32m    487\u001b[0m                 \u001b[0mmethod\u001b[0m\u001b[0;34m=\u001b[0m\u001b[0mrequest\u001b[0m\u001b[0;34m.\u001b[0m\u001b[0mmethod\u001b[0m\u001b[0;34m,\u001b[0m\u001b[0;34m\u001b[0m\u001b[0;34m\u001b[0m\u001b[0m\n\u001b[1;32m    488\u001b[0m                 \u001b[0murl\u001b[0m\u001b[0;34m=\u001b[0m\u001b[0murl\u001b[0m\u001b[0;34m,\u001b[0m\u001b[0;34m\u001b[0m\u001b[0;34m\u001b[0m\u001b[0m\n",
            "\u001b[0;32m/usr/local/lib/python3.10/dist-packages/urllib3/connectionpool.py\u001b[0m in \u001b[0;36murlopen\u001b[0;34m(self, method, url, body, headers, retries, redirect, assert_same_host, timeout, pool_timeout, release_conn, chunked, body_pos, preload_content, decode_content, **response_kw)\u001b[0m\n\u001b[1;32m    789\u001b[0m \u001b[0;34m\u001b[0m\u001b[0m\n\u001b[1;32m    790\u001b[0m             \u001b[0;31m# Make the request on the HTTPConnection object\u001b[0m\u001b[0;34m\u001b[0m\u001b[0;34m\u001b[0m\u001b[0m\n\u001b[0;32m--> 791\u001b[0;31m             response = self._make_request(\n\u001b[0m\u001b[1;32m    792\u001b[0m                 \u001b[0mconn\u001b[0m\u001b[0;34m,\u001b[0m\u001b[0;34m\u001b[0m\u001b[0;34m\u001b[0m\u001b[0m\n\u001b[1;32m    793\u001b[0m                 \u001b[0mmethod\u001b[0m\u001b[0;34m,\u001b[0m\u001b[0;34m\u001b[0m\u001b[0;34m\u001b[0m\u001b[0m\n",
            "\u001b[0;32m/usr/local/lib/python3.10/dist-packages/urllib3/connectionpool.py\u001b[0m in \u001b[0;36m_make_request\u001b[0;34m(self, conn, method, url, body, headers, retries, timeout, chunked, response_conn, preload_content, decode_content, enforce_content_length)\u001b[0m\n\u001b[1;32m    466\u001b[0m             \u001b[0;31m# Trigger any extra validation we need to do.\u001b[0m\u001b[0;34m\u001b[0m\u001b[0;34m\u001b[0m\u001b[0m\n\u001b[1;32m    467\u001b[0m             \u001b[0;32mtry\u001b[0m\u001b[0;34m:\u001b[0m\u001b[0;34m\u001b[0m\u001b[0;34m\u001b[0m\u001b[0m\n\u001b[0;32m--> 468\u001b[0;31m                 \u001b[0mself\u001b[0m\u001b[0;34m.\u001b[0m\u001b[0m_validate_conn\u001b[0m\u001b[0;34m(\u001b[0m\u001b[0mconn\u001b[0m\u001b[0;34m)\u001b[0m\u001b[0;34m\u001b[0m\u001b[0;34m\u001b[0m\u001b[0m\n\u001b[0m\u001b[1;32m    469\u001b[0m             \u001b[0;32mexcept\u001b[0m \u001b[0;34m(\u001b[0m\u001b[0mSocketTimeout\u001b[0m\u001b[0;34m,\u001b[0m \u001b[0mBaseSSLError\u001b[0m\u001b[0;34m)\u001b[0m \u001b[0;32mas\u001b[0m \u001b[0me\u001b[0m\u001b[0;34m:\u001b[0m\u001b[0;34m\u001b[0m\u001b[0;34m\u001b[0m\u001b[0m\n\u001b[1;32m    470\u001b[0m                 \u001b[0mself\u001b[0m\u001b[0;34m.\u001b[0m\u001b[0m_raise_timeout\u001b[0m\u001b[0;34m(\u001b[0m\u001b[0merr\u001b[0m\u001b[0;34m=\u001b[0m\u001b[0me\u001b[0m\u001b[0;34m,\u001b[0m \u001b[0murl\u001b[0m\u001b[0;34m=\u001b[0m\u001b[0murl\u001b[0m\u001b[0;34m,\u001b[0m \u001b[0mtimeout_value\u001b[0m\u001b[0;34m=\u001b[0m\u001b[0mconn\u001b[0m\u001b[0;34m.\u001b[0m\u001b[0mtimeout\u001b[0m\u001b[0;34m)\u001b[0m\u001b[0;34m\u001b[0m\u001b[0;34m\u001b[0m\u001b[0m\n",
            "\u001b[0;32m/usr/local/lib/python3.10/dist-packages/urllib3/connectionpool.py\u001b[0m in \u001b[0;36m_validate_conn\u001b[0;34m(self, conn)\u001b[0m\n\u001b[1;32m   1095\u001b[0m         \u001b[0;31m# Force connect early to allow us to validate the connection.\u001b[0m\u001b[0;34m\u001b[0m\u001b[0;34m\u001b[0m\u001b[0m\n\u001b[1;32m   1096\u001b[0m         \u001b[0;32mif\u001b[0m \u001b[0mconn\u001b[0m\u001b[0;34m.\u001b[0m\u001b[0mis_closed\u001b[0m\u001b[0;34m:\u001b[0m\u001b[0;34m\u001b[0m\u001b[0;34m\u001b[0m\u001b[0m\n\u001b[0;32m-> 1097\u001b[0;31m             \u001b[0mconn\u001b[0m\u001b[0;34m.\u001b[0m\u001b[0mconnect\u001b[0m\u001b[0;34m(\u001b[0m\u001b[0;34m)\u001b[0m\u001b[0;34m\u001b[0m\u001b[0;34m\u001b[0m\u001b[0m\n\u001b[0m\u001b[1;32m   1098\u001b[0m \u001b[0;34m\u001b[0m\u001b[0m\n\u001b[1;32m   1099\u001b[0m         \u001b[0;32mif\u001b[0m \u001b[0;32mnot\u001b[0m \u001b[0mconn\u001b[0m\u001b[0;34m.\u001b[0m\u001b[0mis_verified\u001b[0m\u001b[0;34m:\u001b[0m\u001b[0;34m\u001b[0m\u001b[0;34m\u001b[0m\u001b[0m\n",
            "\u001b[0;32m/usr/local/lib/python3.10/dist-packages/urllib3/connection.py\u001b[0m in \u001b[0;36mconnect\u001b[0;34m(self)\u001b[0m\n\u001b[1;32m    640\u001b[0m             )\n\u001b[1;32m    641\u001b[0m \u001b[0;34m\u001b[0m\u001b[0m\n\u001b[0;32m--> 642\u001b[0;31m         sock_and_verified = _ssl_wrap_socket_and_match_hostname(\n\u001b[0m\u001b[1;32m    643\u001b[0m             \u001b[0msock\u001b[0m\u001b[0;34m=\u001b[0m\u001b[0msock\u001b[0m\u001b[0;34m,\u001b[0m\u001b[0;34m\u001b[0m\u001b[0;34m\u001b[0m\u001b[0m\n\u001b[1;32m    644\u001b[0m             \u001b[0mcert_reqs\u001b[0m\u001b[0;34m=\u001b[0m\u001b[0mself\u001b[0m\u001b[0;34m.\u001b[0m\u001b[0mcert_reqs\u001b[0m\u001b[0;34m,\u001b[0m\u001b[0;34m\u001b[0m\u001b[0;34m\u001b[0m\u001b[0m\n",
            "\u001b[0;32m/usr/local/lib/python3.10/dist-packages/urllib3/connection.py\u001b[0m in \u001b[0;36m_ssl_wrap_socket_and_match_hostname\u001b[0;34m(sock, cert_reqs, ssl_version, ssl_minimum_version, ssl_maximum_version, cert_file, key_file, key_password, ca_certs, ca_cert_dir, ca_cert_data, assert_hostname, assert_fingerprint, server_hostname, ssl_context, tls_in_tls)\u001b[0m\n\u001b[1;32m    733\u001b[0m     \u001b[0;32mif\u001b[0m \u001b[0mssl_context\u001b[0m \u001b[0;32mis\u001b[0m \u001b[0;32mNone\u001b[0m\u001b[0;34m:\u001b[0m\u001b[0;34m\u001b[0m\u001b[0;34m\u001b[0m\u001b[0m\n\u001b[1;32m    734\u001b[0m         \u001b[0mdefault_ssl_context\u001b[0m \u001b[0;34m=\u001b[0m \u001b[0;32mTrue\u001b[0m\u001b[0;34m\u001b[0m\u001b[0;34m\u001b[0m\u001b[0m\n\u001b[0;32m--> 735\u001b[0;31m         context = create_urllib3_context(\n\u001b[0m\u001b[1;32m    736\u001b[0m             \u001b[0mssl_version\u001b[0m\u001b[0;34m=\u001b[0m\u001b[0mresolve_ssl_version\u001b[0m\u001b[0;34m(\u001b[0m\u001b[0mssl_version\u001b[0m\u001b[0;34m)\u001b[0m\u001b[0;34m,\u001b[0m\u001b[0;34m\u001b[0m\u001b[0;34m\u001b[0m\u001b[0m\n\u001b[1;32m    737\u001b[0m             \u001b[0mssl_minimum_version\u001b[0m\u001b[0;34m=\u001b[0m\u001b[0mssl_minimum_version\u001b[0m\u001b[0;34m,\u001b[0m\u001b[0;34m\u001b[0m\u001b[0;34m\u001b[0m\u001b[0m\n",
            "\u001b[0;32m/usr/local/lib/python3.10/dist-packages/urllib3/util/ssl_.py\u001b[0m in \u001b[0;36mcreate_urllib3_context\u001b[0;34m(ssl_version, cert_reqs, options, ciphers, ssl_minimum_version, ssl_maximum_version)\u001b[0m\n\u001b[1;32m    285\u001b[0m \u001b[0;34m\u001b[0m\u001b[0m\n\u001b[1;32m    286\u001b[0m     \u001b[0;31m# PROTOCOL_TLS is deprecated in Python 3.10 so we always use PROTOCOL_TLS_CLIENT\u001b[0m\u001b[0;34m\u001b[0m\u001b[0;34m\u001b[0m\u001b[0m\n\u001b[0;32m--> 287\u001b[0;31m     \u001b[0mcontext\u001b[0m \u001b[0;34m=\u001b[0m \u001b[0mSSLContext\u001b[0m\u001b[0;34m(\u001b[0m\u001b[0mPROTOCOL_TLS_CLIENT\u001b[0m\u001b[0;34m)\u001b[0m\u001b[0;34m\u001b[0m\u001b[0;34m\u001b[0m\u001b[0m\n\u001b[0m\u001b[1;32m    288\u001b[0m \u001b[0;34m\u001b[0m\u001b[0m\n\u001b[1;32m    289\u001b[0m     \u001b[0;32mif\u001b[0m \u001b[0mssl_minimum_version\u001b[0m \u001b[0;32mis\u001b[0m \u001b[0;32mnot\u001b[0m \u001b[0;32mNone\u001b[0m\u001b[0;34m:\u001b[0m\u001b[0;34m\u001b[0m\u001b[0;34m\u001b[0m\u001b[0m\n",
            "\u001b[0;32m/usr/lib/python3.10/ssl.py\u001b[0m in \u001b[0;36m__new__\u001b[0;34m(cls, protocol, *args, **kwargs)\u001b[0m\n\u001b[1;32m    494\u001b[0m             )\n\u001b[1;32m    495\u001b[0m             \u001b[0mprotocol\u001b[0m \u001b[0;34m=\u001b[0m \u001b[0mPROTOCOL_TLS\u001b[0m\u001b[0;34m\u001b[0m\u001b[0;34m\u001b[0m\u001b[0m\n\u001b[0;32m--> 496\u001b[0;31m         \u001b[0mself\u001b[0m \u001b[0;34m=\u001b[0m \u001b[0m_SSLContext\u001b[0m\u001b[0;34m.\u001b[0m\u001b[0m__new__\u001b[0m\u001b[0;34m(\u001b[0m\u001b[0mcls\u001b[0m\u001b[0;34m,\u001b[0m \u001b[0mprotocol\u001b[0m\u001b[0;34m)\u001b[0m\u001b[0;34m\u001b[0m\u001b[0;34m\u001b[0m\u001b[0m\n\u001b[0m\u001b[1;32m    497\u001b[0m         \u001b[0;32mreturn\u001b[0m \u001b[0mself\u001b[0m\u001b[0;34m\u001b[0m\u001b[0;34m\u001b[0m\u001b[0m\n\u001b[1;32m    498\u001b[0m \u001b[0;34m\u001b[0m\u001b[0m\n",
            "\u001b[0;31mKeyboardInterrupt\u001b[0m: "
          ]
        }
      ],
      "source": [
        "def get_substats(uid, md5, retries=10):\n",
        "    url = f\"https://akasha.cv/api/artifacts/{uid}/{md5}\"\n",
        "    response = None\n",
        "\n",
        "    try:\n",
        "        response = requests.get(url)\n",
        "    except Exception as e:\n",
        "        for _ in range(retries):\n",
        "            print(f\"Request failed. Retrying... ({_+1}/{retries})\")\n",
        "            sleep(0.5)\n",
        "            try:\n",
        "                response = requests.get(url)\n",
        "            except Exception as e:\n",
        "                pass\n",
        "            if response and response.ok:\n",
        "                break\n",
        "\n",
        "    if response.status_code == 200:\n",
        "      data = response.json().get('data', [])\n",
        "      substats_agg = defaultdict(float)\n",
        "      for record in data:\n",
        "        substats = record.get('substats', {})\n",
        "        for key, value in substats.items():\n",
        "          substats_agg[key] += value\n",
        "      return substats_agg\n",
        "    return defaultdict(float)"
      ]
    },
    {
      "cell_type": "code",
      "execution_count": null,
      "metadata": {
        "colab": {
          "base_uri": "https://localhost:8080/"
        },
        "id": "1r9F7DXK2VEw",
        "outputId": "9892fbcb-d10a-4d89-f452-dc3a9c863d1b"
      },
      "outputs": [
        {
          "name": "stderr",
          "output_type": "stream",
          "text": [
            "  1%|          | 199/20000 [00:00<00:45, 434.39it/s]\n",
            "\n",
            "KeyboardInterrupt\n",
            "\n"
          ]
        }
      ],
      "source": [
        "# Function to process a single row\n",
        "def process_row(index, row):\n",
        "    uid = row['uid']\n",
        "    md5 = row['md5']\n",
        "    substats = get_substats(uid, md5)\n",
        "\n",
        "    updates = {}\n",
        "    for stat, val in substats.items():\n",
        "        name = \"artifact.\" + snake_case(stat)\n",
        "        updates[name] = val\n",
        "    return index, updates\n",
        "\n",
        "\n",
        "# Initialize a ThreadPoolExecutor\n",
        "with concurrent.futures.ThreadPoolExecutor(max_workers=12) as executor:\n",
        "    futures = []\n",
        "    for index, row in tqdm(data.iterrows()):\n",
        "        futures.append(executor.submit(process_row, index, row))\n",
        "\n",
        "    # Process the results as they complete\n",
        "    for future in tqdm(concurrent.futures.as_completed(futures), total=len(futures)):\n",
        "        index, updates = future.result()\n",
        "        for key, value in updates.items():\n",
        "            data.at[index, key] = value"
      ]
    },
    {
      "cell_type": "markdown",
      "metadata": {
        "id": "rrDB_RnAag_K"
      },
      "source": [
        "## 5. Analyse the data"
      ]
    },
    {
      "cell_type": "code",
      "execution_count": null,
      "metadata": {
        "colab": {
          "base_uri": "https://localhost:8080/",
          "height": 112
        },
        "id": "LFEcYVIMag_K",
        "outputId": "f86d46c8-2e77-4235-c7f6-da96f7c1372d"
      },
      "outputs": [
        {
          "data": {
            "application/vnd.google.colaboratory.intrinsic+json": {
              "summary": "{\n  \"name\": \"groups[\\\"calculation_result\\\"]\",\n  \"rows\": 1,\n  \"fields\": [\n    {\n      \"column\": \"count\",\n      \"properties\": {\n        \"dtype\": \"number\",\n        \"std\": null,\n        \"min\": 20000.0,\n        \"max\": 20000.0,\n        \"num_unique_values\": 1,\n        \"samples\": [\n          20000.0\n        ],\n        \"semantic_type\": \"\",\n        \"description\": \"\"\n      }\n    },\n    {\n      \"column\": \"mean\",\n      \"properties\": {\n        \"dtype\": \"number\",\n        \"std\": null,\n        \"min\": 40648.44084824678,\n        \"max\": 40648.44084824678,\n        \"num_unique_values\": 1,\n        \"samples\": [\n          40648.44084824678\n        ],\n        \"semantic_type\": \"\",\n        \"description\": \"\"\n      }\n    },\n    {\n      \"column\": \"std\",\n      \"properties\": {\n        \"dtype\": \"number\",\n        \"std\": null,\n        \"min\": 1830.9643489603168,\n        \"max\": 1830.9643489603168,\n        \"num_unique_values\": 1,\n        \"samples\": [\n          1830.9643489603168\n        ],\n        \"semantic_type\": \"\",\n        \"description\": \"\"\n      }\n    },\n    {\n      \"column\": \"min\",\n      \"properties\": {\n        \"dtype\": \"number\",\n        \"std\": null,\n        \"min\": 38453.32735116927,\n        \"max\": 38453.32735116927,\n        \"num_unique_values\": 1,\n        \"samples\": [\n          38453.32735116927\n        ],\n        \"semantic_type\": \"\",\n        \"description\": \"\"\n      }\n    },\n    {\n      \"column\": \"25%\",\n      \"properties\": {\n        \"dtype\": \"number\",\n        \"std\": null,\n        \"min\": 39219.47139103512,\n        \"max\": 39219.47139103512,\n        \"num_unique_values\": 1,\n        \"samples\": [\n          39219.47139103512\n        ],\n        \"semantic_type\": \"\",\n        \"description\": \"\"\n      }\n    },\n    {\n      \"column\": \"50%\",\n      \"properties\": {\n        \"dtype\": \"number\",\n        \"std\": null,\n        \"min\": 40169.83770280063,\n        \"max\": 40169.83770280063,\n        \"num_unique_values\": 1,\n        \"samples\": [\n          40169.83770280063\n        ],\n        \"semantic_type\": \"\",\n        \"description\": \"\"\n      }\n    },\n    {\n      \"column\": \"75%\",\n      \"properties\": {\n        \"dtype\": \"number\",\n        \"std\": null,\n        \"min\": 41635.16404149031,\n        \"max\": 41635.16404149031,\n        \"num_unique_values\": 1,\n        \"samples\": [\n          41635.16404149031\n        ],\n        \"semantic_type\": \"\",\n        \"description\": \"\"\n      }\n    },\n    {\n      \"column\": \"max\",\n      \"properties\": {\n        \"dtype\": \"number\",\n        \"std\": null,\n        \"min\": 50647.95936200026,\n        \"max\": 50647.95936200026,\n        \"num_unique_values\": 1,\n        \"samples\": [\n          50647.95936200026\n        ],\n        \"semantic_type\": \"\",\n        \"description\": \"\"\n      }\n    }\n  ]\n}",
              "type": "dataframe"
            },
            "text/html": [
              "\n",
              "  <div id=\"df-b4a9d1a2-adcf-4c65-8da8-9c7ea6ea3ac2\" class=\"colab-df-container\">\n",
              "    <div>\n",
              "<style scoped>\n",
              "    .dataframe tbody tr th:only-of-type {\n",
              "        vertical-align: middle;\n",
              "    }\n",
              "\n",
              "    .dataframe tbody tr th {\n",
              "        vertical-align: top;\n",
              "    }\n",
              "\n",
              "    .dataframe thead th {\n",
              "        text-align: right;\n",
              "    }\n",
              "</style>\n",
              "<table border=\"1\" class=\"dataframe\">\n",
              "  <thead>\n",
              "    <tr style=\"text-align: right;\">\n",
              "      <th></th>\n",
              "      <th></th>\n",
              "      <th></th>\n",
              "      <th>count</th>\n",
              "      <th>mean</th>\n",
              "      <th>std</th>\n",
              "      <th>min</th>\n",
              "      <th>25%</th>\n",
              "      <th>50%</th>\n",
              "      <th>75%</th>\n",
              "      <th>max</th>\n",
              "    </tr>\n",
              "    <tr>\n",
              "      <th>name</th>\n",
              "      <th>calculation_id</th>\n",
              "      <th>variant</th>\n",
              "      <th></th>\n",
              "      <th></th>\n",
              "      <th></th>\n",
              "      <th></th>\n",
              "      <th></th>\n",
              "      <th></th>\n",
              "      <th></th>\n",
              "      <th></th>\n",
              "    </tr>\n",
              "  </thead>\n",
              "  <tbody>\n",
              "    <tr>\n",
              "      <th>xiangling</th>\n",
              "      <th>1000002300</th>\n",
              "      <th>200er</th>\n",
              "      <td>20000.0</td>\n",
              "      <td>40648.440848</td>\n",
              "      <td>1830.964349</td>\n",
              "      <td>38453.327351</td>\n",
              "      <td>39219.471391</td>\n",
              "      <td>40169.837703</td>\n",
              "      <td>41635.164041</td>\n",
              "      <td>50647.959362</td>\n",
              "    </tr>\n",
              "  </tbody>\n",
              "</table>\n",
              "</div>\n",
              "    <div class=\"colab-df-buttons\">\n",
              "\n",
              "  <div class=\"colab-df-container\">\n",
              "    <button class=\"colab-df-convert\" onclick=\"convertToInteractive('df-b4a9d1a2-adcf-4c65-8da8-9c7ea6ea3ac2')\"\n",
              "            title=\"Convert this dataframe to an interactive table.\"\n",
              "            style=\"display:none;\">\n",
              "\n",
              "  <svg xmlns=\"http://www.w3.org/2000/svg\" height=\"24px\" viewBox=\"0 -960 960 960\">\n",
              "    <path d=\"M120-120v-720h720v720H120Zm60-500h600v-160H180v160Zm220 220h160v-160H400v160Zm0 220h160v-160H400v160ZM180-400h160v-160H180v160Zm440 0h160v-160H620v160ZM180-180h160v-160H180v160Zm440 0h160v-160H620v160Z\"/>\n",
              "  </svg>\n",
              "    </button>\n",
              "\n",
              "  <style>\n",
              "    .colab-df-container {\n",
              "      display:flex;\n",
              "      gap: 12px;\n",
              "    }\n",
              "\n",
              "    .colab-df-convert {\n",
              "      background-color: #E8F0FE;\n",
              "      border: none;\n",
              "      border-radius: 50%;\n",
              "      cursor: pointer;\n",
              "      display: none;\n",
              "      fill: #1967D2;\n",
              "      height: 32px;\n",
              "      padding: 0 0 0 0;\n",
              "      width: 32px;\n",
              "    }\n",
              "\n",
              "    .colab-df-convert:hover {\n",
              "      background-color: #E2EBFA;\n",
              "      box-shadow: 0px 1px 2px rgba(60, 64, 67, 0.3), 0px 1px 3px 1px rgba(60, 64, 67, 0.15);\n",
              "      fill: #174EA6;\n",
              "    }\n",
              "\n",
              "    .colab-df-buttons div {\n",
              "      margin-bottom: 4px;\n",
              "    }\n",
              "\n",
              "    [theme=dark] .colab-df-convert {\n",
              "      background-color: #3B4455;\n",
              "      fill: #D2E3FC;\n",
              "    }\n",
              "\n",
              "    [theme=dark] .colab-df-convert:hover {\n",
              "      background-color: #434B5C;\n",
              "      box-shadow: 0px 1px 3px 1px rgba(0, 0, 0, 0.15);\n",
              "      filter: drop-shadow(0px 1px 2px rgba(0, 0, 0, 0.3));\n",
              "      fill: #FFFFFF;\n",
              "    }\n",
              "  </style>\n",
              "\n",
              "    <script>\n",
              "      const buttonEl =\n",
              "        document.querySelector('#df-b4a9d1a2-adcf-4c65-8da8-9c7ea6ea3ac2 button.colab-df-convert');\n",
              "      buttonEl.style.display =\n",
              "        google.colab.kernel.accessAllowed ? 'block' : 'none';\n",
              "\n",
              "      async function convertToInteractive(key) {\n",
              "        const element = document.querySelector('#df-b4a9d1a2-adcf-4c65-8da8-9c7ea6ea3ac2');\n",
              "        const dataTable =\n",
              "          await google.colab.kernel.invokeFunction('convertToInteractive',\n",
              "                                                    [key], {});\n",
              "        if (!dataTable) return;\n",
              "\n",
              "        const docLinkHtml = 'Like what you see? Visit the ' +\n",
              "          '<a target=\"_blank\" href=https://colab.research.google.com/notebooks/data_table.ipynb>data table notebook</a>'\n",
              "          + ' to learn more about interactive tables.';\n",
              "        element.innerHTML = '';\n",
              "        dataTable['output_type'] = 'display_data';\n",
              "        await google.colab.output.renderOutput(dataTable, element);\n",
              "        const docLink = document.createElement('div');\n",
              "        docLink.innerHTML = docLinkHtml;\n",
              "        element.appendChild(docLink);\n",
              "      }\n",
              "    </script>\n",
              "  </div>\n",
              "\n",
              "\n",
              "    </div>\n",
              "  </div>\n"
            ],
            "text/plain": [
              "                                    count          mean          std  \\\n",
              "name      calculation_id variant                                       \n",
              "xiangling 1000002300     200er    20000.0  40648.440848  1830.964349   \n",
              "\n",
              "                                           min           25%           50%  \\\n",
              "name      calculation_id variant                                             \n",
              "xiangling 1000002300     200er    38453.327351  39219.471391  40169.837703   \n",
              "\n",
              "                                           75%           max  \n",
              "name      calculation_id variant                              \n",
              "xiangling 1000002300     200er    41635.164041  50647.959362  "
            ]
          },
          "execution_count": 25,
          "metadata": {},
          "output_type": "execute_result"
        }
      ],
      "source": [
        "# Will split the data into groups by calculation_id and variant\n",
        "groups = data.groupby([\"name\", \"calculation_id\", \"variant\"])\n",
        "groups[\"calculation_result\"].describe()\n"
      ]
    },
    {
      "cell_type": "markdown",
      "metadata": {
        "id": "tUrSa9_Eag_K"
      },
      "source": [
        "### 5.1. Utility functions"
      ]
    },
    {
      "cell_type": "code",
      "execution_count": null,
      "metadata": {
        "id": "WwhcITjnag_K"
      },
      "outputs": [],
      "source": [
        "def plot_sub(df, key_x, key_y, label_x=\"X\", label_y=\"Y\", title=\"scatterplot\", mapfn=None):\n",
        "    return (df[key_x], df[key_y], label_x, label_y, title, mapfn)\n",
        "\n",
        "\n",
        "def plot_scatter(data_list, cols, title=\"\"):\n",
        "    \"\"\"\n",
        "    Plot multiple scatter plots with KDE density color maps in a grid.\n",
        "\n",
        "    Args:\n",
        "    data_list (list of tuples): List of (x, y, label_x, label_y, title, mapfn)\n",
        "    data pairs for each subplot. The mapfn is called as `mapfn(fig, ax)` after\n",
        "    the scatter plot is configured.\n",
        "\n",
        "    cols (int): Number of columns in the grid layout.\n",
        "\n",
        "    Returns:\n",
        "    None\n",
        "    \"\"\"\n",
        "    rows = len(data_list) // cols + (len(data_list) % cols > 0)\n",
        "\n",
        "    fig, axes = plt.subplots(rows, cols, figsize=(15, 5 * rows))\n",
        "    fig.subplots_adjust(hspace=0.5)\n",
        "\n",
        "    fig.suptitle(title, fontsize=16)\n",
        "\n",
        "    for i, (x, y, label_x, label_y, title, mapfn) in enumerate(data_list):\n",
        "        row = i // cols\n",
        "        col = i % cols\n",
        "\n",
        "        ax = axes[row, col] if rows > 1 else axes[col]\n",
        "\n",
        "        stack = np.vstack([x, y])\n",
        "        density = gaussian_kde(stack)(stack)\n",
        "        # Scatter plot\n",
        "        plot = ax.scatter(x=x, y=y, s=5, c=density)\n",
        "\n",
        "        ax.set_xlabel(label_x)\n",
        "        ax.set_ylabel(label_y)\n",
        "        ax.set_title(title)\n",
        "\n",
        "        if mapfn:\n",
        "            mapfn(fig, ax, plot)\n",
        "\n",
        "    # Remove empty subplots\n",
        "    for i in range(len(data_list), rows * cols):\n",
        "        row = i // cols\n",
        "        col = i % cols\n",
        "        fig.delaxes(axes[row, col] if rows > 1 else axes[col])\n",
        "\n",
        "    fig.tight_layout()\n",
        "    plt.show()\n"
      ]
    },
    {
      "cell_type": "markdown",
      "metadata": {
        "id": "xwdq6wZ8ag_K"
      },
      "source": [
        "### 5.2. Correlation between crit value and final damage"
      ]
    },
    {
      "cell_type": "code",
      "execution_count": null,
      "metadata": {
        "id": "_vcrRy2w2VCv"
      },
      "outputs": [],
      "source": [
        "def get_anotation_fn(df):\n",
        "    corr = df[\"crit_value\"].corr(df[\"calculation_result\"])\n",
        "\n",
        "    def add_anotation(_, ax, plot):\n",
        "        # Correlation coefficient\n",
        "        ax.annotate(f'correlation = {corr:.4f}',\n",
        "                    (0.05, 0.95),\n",
        "                    xycoords='axes fraction',\n",
        "                    ha='left',\n",
        "                    va='top')\n",
        "\n",
        "        plt.colorbar(plot, label='Density (KDE)')\n",
        "    return add_anotation\n"
      ]
    },
    {
      "cell_type": "code",
      "execution_count": null,
      "metadata": {
        "colab": {
          "base_uri": "https://localhost:8080/",
          "height": 512
        },
        "id": "R8r1NjDZag_K",
        "outputId": "6930be0b-246d-4a48-bae0-f7be5e48746b"
      },
      "outputs": [
        {
          "data": {
            "image/png": "[encoded data removed]",
            "text/plain": [
              "<Figure size 1500x500 with 2 Axes>"
            ]
          },
          "metadata": {},
          "output_type": "display_data"
        }
      ],
      "source": [
        "plots = []\n",
        "for (name, calculation_id, variant), group in groups:\n",
        "\n",
        "    corr = group[\"crit_value\"].corr(group[\"calculation_result\"])\n",
        "\n",
        "    plots.append(plot_sub(\n",
        "        group,\n",
        "        \"crit_value\",\n",
        "        \"calculation_result\",\n",
        "        label_x=\"Crit Value\",\n",
        "        label_y=\"Damage\",\n",
        "        title=f\"Crit Value VS. Damage for {name}\\n{calculation_id} - (Variant: {variant})\\nSampled from top {len(group)} entries\",\n",
        "        mapfn=get_anotation_fn(group)\n",
        "    ))\n",
        "plot_scatter(\n",
        "    plots, 3, \"Correlation between CV and average damage\\nusing Akasha.cv data\")\n"
      ]
    }
  ],
  "metadata": {
    "colab": {
      "provenance": []
    },
    "kernelspec": {
      "display_name": "Python 3",
      "language": "python",
      "name": "python3"
    },
    "language_info": {
      "codemirror_mode": {
        "name": "ipython",
        "version": 3
      },
      "file_extension": ".py",
      "mimetype": "text/x-python",
      "name": "python",
      "nbconvert_exporter": "python",
      "pygments_lexer": "ipython3",
      "version": "3.8.10"
    },
    "orig_nbformat": 4,
    "widgets": {
      "application/vnd.jupyter.widget-state+json": {
        "15b1d29bbc0c484d8fac4cf335d6f5c7": {
          "model_module": "@jupyter-widgets/output",
          "model_module_version": "1.0.0",
          "model_name": "OutputModel",
          "state": {
            "_dom_classes": [],
            "_model_module": "@jupyter-widgets/output",
            "_model_module_version": "1.0.0",
            "_model_name": "OutputModel",
            "_view_count": null,
            "_view_module": "@jupyter-widgets/output",
            "_view_module_version": "1.0.0",
            "_view_name": "OutputView",
            "layout": "IPY_MODEL_d4e6c5b5be4a42439f3380c873c1ccf4",
            "msg_id": "",
            "outputs": [
              {
                "data": {
                  "text/html": "<pre style=\"white-space:pre;overflow-x:auto;line-height:normal;font-family:Menlo,'DejaVu Sans Mono',consolas,'Courier New',monospace\">Getting ('1000002300', '200er') <span style=\"color: #3a3a3a; text-decoration-color: #3a3a3a\">━━━━━━━━━━━━━━━━━━━━━━━━━━━━━━━━━━━━━━━━</span> <span style=\"color: #800080; text-decoration-color: #800080\">  0%</span> <span style=\"color: #008080; text-decoration-color: #008080\">-:--:--</span>\n</pre>\n",
                  "text/plain": "Getting ('1000002300', '200er') \u001b[38;5;237m━━━━━━━━━━━━━━━━━━━━━━━━━━━━━━━━━━━━━━━━\u001b[0m \u001b[35m  0%\u001b[0m \u001b[36m-:--:--\u001b[0m\n"
                },
                "metadata": {},
                "output_type": "display_data"
              }
            ]
          }
        },
        "d4e6c5b5be4a42439f3380c873c1ccf4": {
          "model_module": "@jupyter-widgets/base",
          "model_module_version": "1.2.0",
          "model_name": "LayoutModel",
          "state": {
            "_model_module": "@jupyter-widgets/base",
            "_model_module_version": "1.2.0",
            "_model_name": "LayoutModel",
            "_view_count": null,
            "_view_module": "@jupyter-widgets/base",
            "_view_module_version": "1.2.0",
            "_view_name": "LayoutView",
            "align_content": null,
            "align_items": null,
            "align_self": null,
            "border": null,
            "bottom": null,
            "display": null,
            "flex": null,
            "flex_flow": null,
            "grid_area": null,
            "grid_auto_columns": null,
            "grid_auto_flow": null,
            "grid_auto_rows": null,
            "grid_column": null,
            "grid_gap": null,
            "grid_row": null,
            "grid_template_areas": null,
            "grid_template_columns": null,
            "grid_template_rows": null,
            "height": null,
            "justify_content": null,
            "justify_items": null,
            "left": null,
            "margin": null,
            "max_height": null,
            "max_width": null,
            "min_height": null,
            "min_width": null,
            "object_fit": null,
            "object_position": null,
            "order": null,
            "overflow": null,
            "overflow_x": null,
            "overflow_y": null,
            "padding": null,
            "right": null,
            "top": null,
            "visibility": null,
            "width": null
          }
        }
      }
    }
  },
  "nbformat": 4,
  "nbformat_minor": 0
}
