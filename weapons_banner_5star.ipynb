{
  "cells": [
    {
      "cell_type": "markdown",
      "metadata": {
        "id": "7l3FVe_92lrP"
      },
      "source": [
        "## Random simulation\n",
        "\n",
        "Simulate the gacha rules iteratively and record the results."
      ]
    },
    {
      "cell_type": "code",
      "execution_count": 1,
      "metadata": {
        "colab": {
          "base_uri": "https://localhost:8080/"
        },
        "id": "stId0s5XpR5B",
        "outputId": "19a978eb-671f-4957-8545-b4a22cc4a6c4"
      },
      "outputs": [
        {
          "name": "stdout",
          "output_type": "stream",
          "text": [
            "Obtained 5* Items: 100 (100.00%)\n",
            "Obtained promotional items: 80 (80.00%)\n",
            "Obtained permanent items: 20 (20.00%)\n",
            "Obtained wanted promotional items: 48 (48.00%)\n"
          ]
        }
      ],
      "source": [
        "from random import random\n",
        "\n",
        "def simulate(sims):\n",
        "  proms = 0\n",
        "  wanted = 0\n",
        "\n",
        "  guaranteed = False\n",
        "  path = 0\n",
        "\n",
        "  def show(text, count):\n",
        "    print(f\"{text}: {count} ({count/sims*100:.2f}%)\")\n",
        "\n",
        "  def chance(p):\n",
        "    return random() <= p\n",
        "\n",
        "  def chance_prom():\n",
        "    return 1 if guaranteed or path >= 2 else 0.75\n",
        "\n",
        "  def chance_wanted():\n",
        "    return 0.5 if path < 2 else 1\n",
        "\n",
        "  for _ in range(sims):\n",
        "    if chance(chance_prom()):\n",
        "      proms += 1\n",
        "      guaranteed = False\n",
        "      if(chance(chance_wanted())):\n",
        "        path = 0\n",
        "        wanted += 1\n",
        "      else:\n",
        "        path += 1\n",
        "    else:\n",
        "      guaranteed = True\n",
        "      path += 1\n",
        "\n",
        "  show(\"Obtained 5* Items\", sims)\n",
        "  show(\"Obtained promotional items\", proms)\n",
        "  show(\"Obtained permanent items\", sims - proms)\n",
        "  show(\"Obtained wanted promotional items\", wanted)\n",
        "\n",
        "simulate(100)\n",
        "\n",
        "\n"
      ]
    },
    {
      "cell_type": "markdown",
      "metadata": {
        "id": "7dTJEiBo2puW"
      },
      "source": [
        "## Calculation via Markov chains"
      ]
    },
    {
      "cell_type": "code",
      "execution_count": 2,
      "metadata": {
        "id": "nP4hyca67baa"
      },
      "outputs": [
        {
          "name": "stdout",
          "output_type": "stream",
          "text": [
            "\u001b[1;31mE: \u001b[0mCould not open lock file /var/lib/dpkg/lock-frontend - open (13: Permission denied)\u001b[0m\n",
            "\u001b[1;31mE: \u001b[0mUnable to acquire the dpkg frontend lock (/var/lib/dpkg/lock-frontend), are you root?\u001b[0m\n"
          ]
        }
      ],
      "source": [
        "!apt -qqq install graphviz"
      ]
    },
    {
      "cell_type": "code",
      "execution_count": 3,
      "metadata": {
        "colab": {
          "base_uri": "https://localhost:8080/"
        },
        "id": "1kcHLlLI6fJ_",
        "outputId": "1d94b343-dc18-441d-c843-0c8296fcca7e"
      },
      "outputs": [
        {
          "name": "stdout",
          "output_type": "stream",
          "text": [
            "Overwriting chain.temp.dot\n"
          ]
        }
      ],
      "source": [
        "%%writefile chain.temp.dot\n",
        "# The markov chain diagram\n",
        "digraph chain {\n",
        "\n",
        "  per1[label=\"Permanent (1/2)\"];\n",
        "  per2[label=\"Permanent (2/2)\"];\n",
        "  prom10[label=\"Wanted promotional (0/2)\"];\n",
        "  prom21[label=\"Not wanted promotional (1/2)\"];\n",
        "  prom22[label=\"Not wanted promotional (2/2)\"];\n",
        "\n",
        "  per1->prom10 [label=\"0.5\"];\n",
        "  per1->prom22 [label=\"0.5\"];\n",
        "  prom10->prom10 [label=\"0.375\"];\n",
        "  prom10->prom21 [label=\"0.375\"];\n",
        "  prom10->per1 [label=\"0.25\"];\n",
        "  prom21->prom10 [label=\"0.375\"];\n",
        "  prom21->prom22 [label=\"0.375\"];\n",
        "  prom21->per2 [label=\"0.25\"];\n",
        "  per2->prom10 [label=\"1\"];\n",
        "  prom22->prom10 [label=\"1\"];\n",
        "}"
      ]
    },
    {
      "cell_type": "code",
      "execution_count": 4,
      "metadata": {
        "colab": {
          "base_uri": "https://localhost:8080/",
          "height": 424
        },
        "id": "T4EvcUT26zDK",
        "outputId": "9952d640-2f9a-4295-d325-155be0c3d8c8"
      },
      "outputs": [
        {
          "ename": "FileNotFoundError",
          "evalue": "No such file or directory: 'chain.png'",
          "output_type": "error",
          "traceback": [
            "\u001b[0;31m---------------------------------------------------------------------------\u001b[0m",
            "\u001b[0;31mTypeError\u001b[0m                                 Traceback (most recent call last)",
            "File \u001b[0;32m~/.local/lib/python3.8/site-packages/IPython/core/display.py:1045\u001b[0m, in \u001b[0;36mImage._data_and_metadata\u001b[0;34m(self, always_both)\u001b[0m\n\u001b[1;32m   1044\u001b[0m \u001b[39mtry\u001b[39;00m:\n\u001b[0;32m-> 1045\u001b[0m     b64_data \u001b[39m=\u001b[39m b2a_base64(\u001b[39mself\u001b[39;49m\u001b[39m.\u001b[39;49mdata, newline\u001b[39m=\u001b[39;49m\u001b[39mFalse\u001b[39;49;00m)\u001b[39m.\u001b[39mdecode(\u001b[39m\"\u001b[39m\u001b[39mascii\u001b[39m\u001b[39m\"\u001b[39m)\n\u001b[1;32m   1046\u001b[0m \u001b[39mexcept\u001b[39;00m \u001b[39mTypeError\u001b[39;00m \u001b[39mas\u001b[39;00m e:\n",
            "\u001b[0;31mTypeError\u001b[0m: a bytes-like object is required, not 'str'",
            "\nThe above exception was the direct cause of the following exception:\n",
            "\u001b[0;31mFileNotFoundError\u001b[0m                         Traceback (most recent call last)",
            "File \u001b[0;32m~/.local/lib/python3.8/site-packages/IPython/core/formatters.py:974\u001b[0m, in \u001b[0;36mMimeBundleFormatter.__call__\u001b[0;34m(self, obj, include, exclude)\u001b[0m\n\u001b[1;32m    971\u001b[0m     method \u001b[39m=\u001b[39m get_real_method(obj, \u001b[39mself\u001b[39m\u001b[39m.\u001b[39mprint_method)\n\u001b[1;32m    973\u001b[0m     \u001b[39mif\u001b[39;00m method \u001b[39mis\u001b[39;00m \u001b[39mnot\u001b[39;00m \u001b[39mNone\u001b[39;00m:\n\u001b[0;32m--> 974\u001b[0m         \u001b[39mreturn\u001b[39;00m method(include\u001b[39m=\u001b[39;49minclude, exclude\u001b[39m=\u001b[39;49mexclude)\n\u001b[1;32m    975\u001b[0m     \u001b[39mreturn\u001b[39;00m \u001b[39mNone\u001b[39;00m\n\u001b[1;32m    976\u001b[0m \u001b[39melse\u001b[39;00m:\n",
            "File \u001b[0;32m~/.local/lib/python3.8/site-packages/IPython/core/display.py:1035\u001b[0m, in \u001b[0;36mImage._repr_mimebundle_\u001b[0;34m(self, include, exclude)\u001b[0m\n\u001b[1;32m   1033\u001b[0m \u001b[39mif\u001b[39;00m \u001b[39mself\u001b[39m\u001b[39m.\u001b[39membed:\n\u001b[1;32m   1034\u001b[0m     mimetype \u001b[39m=\u001b[39m \u001b[39mself\u001b[39m\u001b[39m.\u001b[39m_mimetype\n\u001b[0;32m-> 1035\u001b[0m     data, metadata \u001b[39m=\u001b[39m \u001b[39mself\u001b[39;49m\u001b[39m.\u001b[39;49m_data_and_metadata(always_both\u001b[39m=\u001b[39;49m\u001b[39mTrue\u001b[39;49;00m)\n\u001b[1;32m   1036\u001b[0m     \u001b[39mif\u001b[39;00m metadata:\n\u001b[1;32m   1037\u001b[0m         metadata \u001b[39m=\u001b[39m {mimetype: metadata}\n",
            "File \u001b[0;32m~/.local/lib/python3.8/site-packages/IPython/core/display.py:1047\u001b[0m, in \u001b[0;36mImage._data_and_metadata\u001b[0;34m(self, always_both)\u001b[0m\n\u001b[1;32m   1045\u001b[0m     b64_data \u001b[39m=\u001b[39m b2a_base64(\u001b[39mself\u001b[39m\u001b[39m.\u001b[39mdata, newline\u001b[39m=\u001b[39m\u001b[39mFalse\u001b[39;00m)\u001b[39m.\u001b[39mdecode(\u001b[39m\"\u001b[39m\u001b[39mascii\u001b[39m\u001b[39m\"\u001b[39m)\n\u001b[1;32m   1046\u001b[0m \u001b[39mexcept\u001b[39;00m \u001b[39mTypeError\u001b[39;00m \u001b[39mas\u001b[39;00m e:\n\u001b[0;32m-> 1047\u001b[0m     \u001b[39mraise\u001b[39;00m \u001b[39mFileNotFoundError\u001b[39;00m(\n\u001b[1;32m   1048\u001b[0m         \u001b[39m\"\u001b[39m\u001b[39mNo such file or directory: \u001b[39m\u001b[39m'\u001b[39m\u001b[39m%s\u001b[39;00m\u001b[39m'\u001b[39m\u001b[39m\"\u001b[39m \u001b[39m%\u001b[39m (\u001b[39mself\u001b[39m\u001b[39m.\u001b[39mdata)) \u001b[39mfrom\u001b[39;00m \u001b[39me\u001b[39;00m\n\u001b[1;32m   1049\u001b[0m md \u001b[39m=\u001b[39m {}\n\u001b[1;32m   1050\u001b[0m \u001b[39mif\u001b[39;00m \u001b[39mself\u001b[39m\u001b[39m.\u001b[39mmetadata:\n",
            "\u001b[0;31mFileNotFoundError\u001b[0m: No such file or directory: 'chain.png'"
          ]
        },
        {
          "ename": "FileNotFoundError",
          "evalue": "No such file or directory: 'chain.png'",
          "output_type": "error",
          "traceback": [
            "\u001b[0;31m---------------------------------------------------------------------------\u001b[0m",
            "\u001b[0;31mTypeError\u001b[0m                                 Traceback (most recent call last)",
            "File \u001b[0;32m~/.local/lib/python3.8/site-packages/IPython/core/display.py:1045\u001b[0m, in \u001b[0;36mImage._data_and_metadata\u001b[0;34m(self, always_both)\u001b[0m\n\u001b[1;32m   1044\u001b[0m \u001b[39mtry\u001b[39;00m:\n\u001b[0;32m-> 1045\u001b[0m     b64_data \u001b[39m=\u001b[39m b2a_base64(\u001b[39mself\u001b[39;49m\u001b[39m.\u001b[39;49mdata, newline\u001b[39m=\u001b[39;49m\u001b[39mFalse\u001b[39;49;00m)\u001b[39m.\u001b[39mdecode(\u001b[39m\"\u001b[39m\u001b[39mascii\u001b[39m\u001b[39m\"\u001b[39m)\n\u001b[1;32m   1046\u001b[0m \u001b[39mexcept\u001b[39;00m \u001b[39mTypeError\u001b[39;00m \u001b[39mas\u001b[39;00m e:\n",
            "\u001b[0;31mTypeError\u001b[0m: a bytes-like object is required, not 'str'",
            "\nThe above exception was the direct cause of the following exception:\n",
            "\u001b[0;31mFileNotFoundError\u001b[0m                         Traceback (most recent call last)",
            "File \u001b[0;32m~/.local/lib/python3.8/site-packages/IPython/core/formatters.py:344\u001b[0m, in \u001b[0;36mBaseFormatter.__call__\u001b[0;34m(self, obj)\u001b[0m\n\u001b[1;32m    342\u001b[0m     method \u001b[39m=\u001b[39m get_real_method(obj, \u001b[39mself\u001b[39m\u001b[39m.\u001b[39mprint_method)\n\u001b[1;32m    343\u001b[0m     \u001b[39mif\u001b[39;00m method \u001b[39mis\u001b[39;00m \u001b[39mnot\u001b[39;00m \u001b[39mNone\u001b[39;00m:\n\u001b[0;32m--> 344\u001b[0m         \u001b[39mreturn\u001b[39;00m method()\n\u001b[1;32m    345\u001b[0m     \u001b[39mreturn\u001b[39;00m \u001b[39mNone\u001b[39;00m\n\u001b[1;32m    346\u001b[0m \u001b[39melse\u001b[39;00m:\n",
            "File \u001b[0;32m~/.local/lib/python3.8/site-packages/IPython/core/display.py:1067\u001b[0m, in \u001b[0;36mImage._repr_png_\u001b[0;34m(self)\u001b[0m\n\u001b[1;32m   1065\u001b[0m \u001b[39mdef\u001b[39;00m \u001b[39m_repr_png_\u001b[39m(\u001b[39mself\u001b[39m):\n\u001b[1;32m   1066\u001b[0m     \u001b[39mif\u001b[39;00m \u001b[39mself\u001b[39m\u001b[39m.\u001b[39membed \u001b[39mand\u001b[39;00m \u001b[39mself\u001b[39m\u001b[39m.\u001b[39mformat \u001b[39m==\u001b[39m \u001b[39mself\u001b[39m\u001b[39m.\u001b[39m_FMT_PNG:\n\u001b[0;32m-> 1067\u001b[0m         \u001b[39mreturn\u001b[39;00m \u001b[39mself\u001b[39;49m\u001b[39m.\u001b[39;49m_data_and_metadata()\n",
            "File \u001b[0;32m~/.local/lib/python3.8/site-packages/IPython/core/display.py:1047\u001b[0m, in \u001b[0;36mImage._data_and_metadata\u001b[0;34m(self, always_both)\u001b[0m\n\u001b[1;32m   1045\u001b[0m     b64_data \u001b[39m=\u001b[39m b2a_base64(\u001b[39mself\u001b[39m\u001b[39m.\u001b[39mdata, newline\u001b[39m=\u001b[39m\u001b[39mFalse\u001b[39;00m)\u001b[39m.\u001b[39mdecode(\u001b[39m\"\u001b[39m\u001b[39mascii\u001b[39m\u001b[39m\"\u001b[39m)\n\u001b[1;32m   1046\u001b[0m \u001b[39mexcept\u001b[39;00m \u001b[39mTypeError\u001b[39;00m \u001b[39mas\u001b[39;00m e:\n\u001b[0;32m-> 1047\u001b[0m     \u001b[39mraise\u001b[39;00m \u001b[39mFileNotFoundError\u001b[39;00m(\n\u001b[1;32m   1048\u001b[0m         \u001b[39m\"\u001b[39m\u001b[39mNo such file or directory: \u001b[39m\u001b[39m'\u001b[39m\u001b[39m%s\u001b[39;00m\u001b[39m'\u001b[39m\u001b[39m\"\u001b[39m \u001b[39m%\u001b[39m (\u001b[39mself\u001b[39m\u001b[39m.\u001b[39mdata)) \u001b[39mfrom\u001b[39;00m \u001b[39me\u001b[39;00m\n\u001b[1;32m   1049\u001b[0m md \u001b[39m=\u001b[39m {}\n\u001b[1;32m   1050\u001b[0m \u001b[39mif\u001b[39;00m \u001b[39mself\u001b[39m\u001b[39m.\u001b[39mmetadata:\n",
            "\u001b[0;31mFileNotFoundError\u001b[0m: No such file or directory: 'chain.png'"
          ]
        },
        {
          "data": {
            "text/plain": [
              "<IPython.core.display.Image object>"
            ]
          },
          "execution_count": 4,
          "metadata": {},
          "output_type": "execute_result"
        }
      ],
      "source": [
        "!dot -Tpng chain.temp.dot > chain.temp.png\n",
        "from IPython.display import Image\n",
        "Image(\"chain.temp.png\")"
      ]
    },
    {
      "cell_type": "code",
      "execution_count": null,
      "metadata": {},
      "outputs": [],
      "source": [
        "!rm chain.temp.dot chain.temp.png"
      ]
    },
    {
      "cell_type": "markdown",
      "metadata": {
        "id": "XJ-c-N_g8jaU"
      },
      "source": [
        "-- | permanent (1/2) | permanent (2/2) | wanted promotional (0/2) | not wanted promotional (1/2) | not wanted promotional (2/2)\n",
        "--|--|--|--|--|--\n",
        "permanent (1/2) | 0 | 0 | 0.5 | 0 | 0.5\n",
        "permanent (2/2) | 0 | 0 | 1 | 0 | 0\n",
        "wanted promotional (0/2) | 0.25 | 0 | 0.375 | 0.375 | 0\n",
        "not wanted promotional (1/2) | 0 | 0.25 | 0.375 | 0 | 0.375\n",
        "wanted promotional (2/2) | 0 | 0 | 1 | 0 | 0"
      ]
    },
    {
      "cell_type": "code",
      "execution_count": null,
      "metadata": {
        "id": "8f9-Y1i5zg2x"
      },
      "outputs": [],
      "source": [
        "import numpy as np\n",
        "import sympy"
      ]
    },
    {
      "cell_type": "code",
      "execution_count": null,
      "metadata": {
        "colab": {
          "base_uri": "https://localhost:8080/",
          "height": 119
        },
        "id": "LzQsHLbezAjU",
        "outputId": "b21a1292-4749-497a-edfd-d7e0579549cc"
      },
      "outputs": [
        {
          "data": {
            "text/latex": [
              "$\\displaystyle \\left[\\begin{matrix}0 & 0 & 0.5 & 0 & 0.5\\\\0 & 0 & 1 & 0 & 0\\\\0.25 & 0 & 0.375 & 0.375 & 0\\\\0 & 0.25 & 0.375 & 0 & 0.375\\\\0 & 0 & 1 & 0 & 0\\end{matrix}\\right]$"
            ],
            "text/plain": [
              "Matrix([\n",
              "[   0,    0,   0.5,     0,   0.5],\n",
              "[   0,    0,     1,     0,     0],\n",
              "[0.25,    0, 0.375, 0.375,     0],\n",
              "[   0, 0.25, 0.375,     0, 0.375],\n",
              "[   0,    0,     1,     0,     0]])"
            ]
          },
          "execution_count": 76,
          "metadata": {},
          "output_type": "execute_result"
        }
      ],
      "source": [
        "M = sympy.Matrix([\n",
        "  [0, 0, 0.5, 0, 0.5],\n",
        "  [0, 0, 1, 0, 0],\n",
        "  [0.25, 0, 0.375, 0.375, 0],\n",
        "  [0, 0.25, 0.375, 0, 0.375],\n",
        "  [0, 0, 1, 0, 0],\n",
        "])\n",
        "M"
      ]
    },
    {
      "cell_type": "code",
      "execution_count": null,
      "metadata": {
        "colab": {
          "base_uri": "https://localhost:8080/",
          "height": 39
        },
        "id": "Gvb9eSxkzmUB",
        "outputId": "b70174b4-3b69-43c7-ebe4-bc1e63da32cd"
      },
      "outputs": [
        {
          "data": {
            "text/latex": [
              "$\\displaystyle \\left[\\begin{matrix}x_{0} & x_{1} & x_{2} & x_{3} & x_{4}\\end{matrix}\\right]$"
            ],
            "text/plain": [
              "Matrix([[x0, x1, x2, x3, x4]])"
            ]
          },
          "execution_count": 77,
          "metadata": {},
          "output_type": "execute_result"
        }
      ],
      "source": [
        "x = sympy.symbols(\"x0:5\")\n",
        "X = sympy.Matrix(x).T\n",
        "X"
      ]
    },
    {
      "cell_type": "code",
      "execution_count": null,
      "metadata": {
        "colab": {
          "base_uri": "https://localhost:8080/",
          "height": 147
        },
        "id": "VCYBySbz0EK-",
        "outputId": "c38f0e3d-9e47-4527-c10b-0c1fbaf4a500"
      },
      "outputs": [
        {
          "data": {
            "text/latex": [
              "$\\displaystyle \\left[\\begin{matrix}x_{0} - 0.25 x_{2} & x_{1} - 0.25 x_{3} & - 0.5 x_{0} - x_{1} + 0.625 x_{2} - 0.375 x_{3} - x_{4} & - 0.375 x_{2} + x_{3} & - 0.5 x_{0} - 0.375 x_{3} + x_{4}\\end{matrix}\\right]$"
            ],
            "text/plain": [
              "Matrix([[x0 - 0.25*x2, x1 - 0.25*x3, -0.5*x0 - x1 + 0.625*x2 - 0.375*x3 - x4, -0.375*x2 + x3, -0.5*x0 - 0.375*x3 + x4]])"
            ]
          },
          "metadata": {},
          "output_type": "display_data"
        },
        {
          "data": {
            "text/latex": [
              "$\\displaystyle x_{0} + x_{1} + x_{2} + x_{3} + x_{4} - 1$"
            ],
            "text/plain": [
              "x0 + x1 + x2 + x3 + x4 - 1"
            ]
          },
          "metadata": {},
          "output_type": "display_data"
        },
        {
          "data": {
            "text/plain": [
              "[0.125984251968504,\n",
              " 0.0472440944881890,\n",
              " 0.503937007874016,\n",
              " 0.188976377952756,\n",
              " 0.133858267716535]"
            ]
          },
          "execution_count": 78,
          "metadata": {},
          "output_type": "execute_result"
        }
      ],
      "source": [
        "eq1 = X - X*M\n",
        "eq2 = sum(x) - 1\n",
        "\n",
        "display(eq1, eq2)\n",
        "_sol = sympy.solve((eq1, eq2), x)\n",
        "sol = []\n",
        "for _x in x:\n",
        "  sol.append(_sol[_x])\n",
        "sol"
      ]
    },
    {
      "cell_type": "code",
      "execution_count": null,
      "metadata": {
        "id": "oZDROVTL2tMt"
      },
      "outputs": [],
      "source": [
        "def show(text, rate):\n",
        "  print(f\"{text}: {rate} ({rate*100:.2f}%)\")"
      ]
    },
    {
      "cell_type": "code",
      "execution_count": null,
      "metadata": {
        "colab": {
          "base_uri": "https://localhost:8080/"
        },
        "id": "4GF88rfP3mq0",
        "outputId": "da7353c7-3b9d-431a-8cb0-4fd336011574"
      },
      "outputs": [
        {
          "name": "stdout",
          "output_type": "stream",
          "text": [
            "Permanent item rate: 0.173228346456693 (17.32%)\n",
            "Promotional item rate: 0.826771653543307 (82.68%)\n",
            "Wanted promotional item rate: 0.503937007874016 (50.39%)\n"
          ]
        }
      ],
      "source": [
        "show(\"Permanent item rate\", sum(sol[0:2]))\n",
        "show(\"Promotional item rate\", sum(sol[2:5]))\n",
        "show(\"Wanted promotional item rate\", sol[2])"
      ]
    }
  ],
  "metadata": {
    "colab": {
      "provenance": [],
      "toc_visible": true
    },
    "kernelspec": {
      "display_name": "Python 3",
      "name": "python3"
    },
    "language_info": {
      "codemirror_mode": {
        "name": "ipython",
        "version": 3
      },
      "file_extension": ".py",
      "mimetype": "text/x-python",
      "name": "python",
      "nbconvert_exporter": "python",
      "pygments_lexer": "ipython3",
      "version": "3.8.10"
    }
  },
  "nbformat": 4,
  "nbformat_minor": 0
}
